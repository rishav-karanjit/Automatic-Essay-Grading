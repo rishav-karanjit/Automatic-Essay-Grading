{
 "cells": [
  {
   "cell_type": "markdown",
   "id": "9697b2d6",
   "metadata": {},
   "source": [
    "# SVM"
   ]
  },
  {
   "cell_type": "code",
   "execution_count": 235,
   "id": "bff06b8e",
   "metadata": {
    "scrolled": true
   },
   "outputs": [
    {
     "name": "stdout",
     "output_type": "stream",
     "text": [
      "      No. of Characters  No. of Words  No. of Unique words  POS Average\n",
      "0                  1538           338                   56          199\n",
      "1                  1870           419                   51          230\n",
      "2                  1263           279                   50          170\n",
      "3                  2642           524                   62          346\n",
      "4                  2105           465                   49          272\n",
      "...                 ...           ...                  ...          ...\n",
      "1778               2094           497                   47          296\n",
      "1779                892           200                   39          122\n",
      "1780               1352           291                   36          161\n",
      "1781                 57            15                   21            7\n",
      "1782                905           214                   38          130\n",
      "\n",
      "[1783 rows x 4 columns]\n"
     ]
    },
    {
     "data": {
      "text/plain": [
       "(357, 4)"
      ]
     },
     "execution_count": 235,
     "metadata": {},
     "output_type": "execute_result"
    }
   ],
   "source": [
    "import pandas as pd\n",
    "from sklearn.model_selection import train_test_split\n",
    "from sklearn.preprocessing import StandardScaler\n",
    "\n",
    "df = pd.read_csv(\"Dataset/Dataset2.csv\")\n",
    "\n",
    "X = df.iloc[:,1:5]\n",
    "y = df.iloc[:,9]\n",
    "print(X)\n",
    "# scaler = StandardScaler()\n",
    "# X = scaler.fit_transform(X)\n",
    "X_train, X_test, y_train, y_test = train_test_split(X, y,test_size=0.20, random_state=101)\n",
    "X_test.shape"
   ]
  },
  {
   "cell_type": "code",
   "execution_count": 236,
   "id": "27f8b055",
   "metadata": {},
   "outputs": [
    {
     "data": {
      "text/plain": [
       "SVC(probability=True)"
      ]
     },
     "execution_count": 236,
     "metadata": {},
     "output_type": "execute_result"
    }
   ],
   "source": [
    "from sklearn import svm\n",
    "\n",
    "SVM = svm.SVC(probability=True)\n",
    "\n",
    "SVM.fit(X_train, y_train)"
   ]
  },
  {
   "cell_type": "code",
   "execution_count": 237,
   "id": "d09c6596",
   "metadata": {},
   "outputs": [],
   "source": [
    "poly_pred = SVM.predict(X_test)"
   ]
  },
  {
   "cell_type": "code",
   "execution_count": 238,
   "id": "6033a015",
   "metadata": {
    "scrolled": true
   },
   "outputs": [
    {
     "name": "stdout",
     "output_type": "stream",
     "text": [
      "Accuracy (Polynomial Kernel):  86.27\n"
     ]
    }
   ],
   "source": [
    "from sklearn.metrics import accuracy_score\n",
    "from sklearn.metrics import f1_score\n",
    "\n",
    "poly_accuracy = accuracy_score(y_test, poly_pred)\n",
    "print('Accuracy (Polynomial Kernel): ', \"%.2f\" % (poly_accuracy*100))"
   ]
  },
  {
   "cell_type": "markdown",
   "id": "c5d4ee97",
   "metadata": {},
   "source": [
    "# KNN"
   ]
  },
  {
   "cell_type": "code",
   "execution_count": 239,
   "id": "8f656ac8",
   "metadata": {},
   "outputs": [
    {
     "name": "stdout",
     "output_type": "stream",
     "text": [
      "KNN Accuracy: 86.83\n"
     ]
    }
   ],
   "source": [
    "from sklearn.neighbors import KNeighborsClassifier\n",
    "from sklearn.metrics import accuracy_score\n",
    "\n",
    "KNN = KNeighborsClassifier(n_neighbors=13)\n",
    "KNN.fit(X_train,y_train)\n",
    "KNN_pred = KNN.predict(X_test)\n",
    "\n",
    "KNN_accuracy = accuracy_score(y_test,KNN_pred)\n",
    "print(\"KNN Accuracy:\", \"%.2f\" % (KNN_accuracy*100))"
   ]
  },
  {
   "cell_type": "markdown",
   "id": "4f52aaad",
   "metadata": {},
   "source": [
    "# RFC"
   ]
  },
  {
   "cell_type": "code",
   "execution_count": 240,
   "id": "e523fcd4",
   "metadata": {
    "scrolled": true
   },
   "outputs": [
    {
     "name": "stdout",
     "output_type": "stream",
     "text": [
      "RFC Accuracy: 82.35\n"
     ]
    }
   ],
   "source": [
    "from sklearn.ensemble import RandomForestClassifier\n",
    "RFC = RandomForestClassifier(n_estimators=11,random_state =4)\n",
    "RFC.fit(X_train, y_train)\n",
    "RFC_pred = RFC.predict(X_test)\n",
    "\n",
    "RFC_accuracy = accuracy_score(y_test,RFC_pred)\n",
    "print(\"RFC Accuracy:\", \"%.2f\" % (RFC_accuracy*100))"
   ]
  },
  {
   "cell_type": "markdown",
   "id": "e812ca17",
   "metadata": {},
   "source": [
    "# XG BOOST"
   ]
  },
  {
   "cell_type": "code",
   "execution_count": 241,
   "id": "d7073ece",
   "metadata": {},
   "outputs": [
    {
     "name": "stderr",
     "output_type": "stream",
     "text": [
      "c:\\users\\rishavk\\appdata\\local\\programs\\python\\python38\\lib\\site-packages\\xgboost\\sklearn.py:1146: UserWarning: The use of label encoder in XGBClassifier is deprecated and will be removed in a future release. To remove this warning, do the following: 1) Pass option use_label_encoder=False when constructing XGBClassifier object; and 2) Encode your labels (y) as integers starting with 0, i.e. 0, 1, 2, ..., [num_class - 1].\n",
      "  warnings.warn(label_encoder_deprecation_msg, UserWarning)\n"
     ]
    },
    {
     "name": "stdout",
     "output_type": "stream",
     "text": [
      "[11:26:59] WARNING: C:/Users/Administrator/workspace/xgboost-win64_release_1.4.0/src/learner.cc:1095: Starting in XGBoost 1.3.0, the default evaluation metric used with the objective 'multi:softprob' was changed from 'merror' to 'mlogloss'. Explicitly set eval_metric if you'd like to restore the old behavior.\n",
      "XGB Accuracy: 83.47\n"
     ]
    }
   ],
   "source": [
    "from xgboost import XGBClassifier\n",
    "\n",
    "XGB = XGBClassifier()\n",
    "XGB.fit(X_train, y_train)\n",
    "\n",
    "XGB_pred = XGB.predict(X_test)\n",
    "\n",
    "XGB_accuracy = accuracy_score(y_test,XGB_pred)\n",
    "print(\"XGB Accuracy:\", \"%.2f\" % (XGB_accuracy*100))"
   ]
  },
  {
   "cell_type": "markdown",
   "id": "72541b5f",
   "metadata": {},
   "source": [
    "# LogisticRegression"
   ]
  },
  {
   "cell_type": "code",
   "execution_count": 242,
   "id": "3abe6714",
   "metadata": {},
   "outputs": [
    {
     "name": "stdout",
     "output_type": "stream",
     "text": [
      "LogisticRegression Accuracy: 87.39\n"
     ]
    }
   ],
   "source": [
    "from sklearn.linear_model import LogisticRegression\n",
    "\n",
    "LogisticRegression = LogisticRegression(solver='lbfgs',max_iter=10000)\n",
    "LogisticRegression.fit(X_train, y_train)\n",
    "\n",
    "LogisticRegression_pred = LogisticRegression.predict(X_test)\n",
    "\n",
    "LogisticRegression_accuracy = accuracy_score(y_test,LogisticRegression_pred)\n",
    "print(\"LogisticRegression Accuracy:\", \"%.2f\" % (LogisticRegression_accuracy*100))"
   ]
  },
  {
   "cell_type": "markdown",
   "id": "32009d59",
   "metadata": {},
   "source": [
    "# Stack"
   ]
  },
  {
   "cell_type": "code",
   "execution_count": 255,
   "id": "bb2706de",
   "metadata": {
    "scrolled": true
   },
   "outputs": [
    {
     "name": "stdout",
     "output_type": "stream",
     "text": [
      "Stack Test Accuracy: 87.11\n"
     ]
    }
   ],
   "source": [
    "from sklearn.ensemble import StackingClassifier\n",
    "from sklearn.ensemble import VotingClassifier\n",
    "\n",
    "\n",
    "estimator_list = [\n",
    "    ('rfc',RFC),\n",
    "    ('knn',KNN),\n",
    "    ('svm',SVM),\n",
    "    ('LR',LogisticRegression)\n",
    "]\n",
    "\n",
    "# Build stack model\n",
    "stack_model = VotingClassifier(\n",
    "    estimators=estimator_list,voting='hard'\n",
    ")\n",
    "\n",
    "# Train stacked model\n",
    "stack_model.fit(X_train, y_train)\n",
    "\n",
    "# Make predictions\n",
    "stack_pred = stack_model.predict(X_test)\n",
    "\n",
    "stack_accuracy = accuracy_score(y_test,stack_pred)\n",
    "print(\"Stack Test Accuracy:\", \"%.2f\" % (stack_accuracy*100))"
   ]
  },
  {
   "cell_type": "code",
   "execution_count": 256,
   "id": "7d58f481",
   "metadata": {},
   "outputs": [
    {
     "name": "stdout",
     "output_type": "stream",
     "text": [
      "[4]\n"
     ]
    }
   ],
   "source": [
    "print(stack_model.predict([[2617,506,44,314]]))\n",
    "\n",
    "# from sklearn.metrics import confusion_matrix\n",
    "# import seaborn as sns\n",
    "\n",
    "# cm = confusion_matrix(y_test, LogisticRegression_pred)\n",
    "\n",
    "# sns.heatmap(cm,annot=True)"
   ]
  },
  {
   "cell_type": "code",
   "execution_count": null,
   "id": "7104508c",
   "metadata": {},
   "outputs": [],
   "source": [
    "import pickle\n",
    "\n",
    "pickle.dump(stack_model, open(\"Model/Stack_model.sav\", 'wb'))"
   ]
  },
  {
   "cell_type": "markdown",
   "id": "9c4ca6e2",
   "metadata": {},
   "source": [
    "# Neural network"
   ]
  },
  {
   "cell_type": "code",
   "execution_count": 88,
   "id": "1cbff338",
   "metadata": {},
   "outputs": [
    {
     "name": "stdout",
     "output_type": "stream",
     "text": [
      "Epoch 1/100\n",
      "36/36 [==============================] - 1s 10ms/step - loss: 10577.8816 - accuracy: 0.6389 - val_loss: 1.1513 - val_accuracy: 0.7343\n",
      "Epoch 2/100\n",
      "36/36 [==============================] - 0s 3ms/step - loss: 1.1216 - accuracy: 0.7542 - val_loss: 1.1342 - val_accuracy: 0.7343\n",
      "Epoch 3/100\n",
      "36/36 [==============================] - 0s 4ms/step - loss: 1.0746 - accuracy: 0.7560 - val_loss: 1.1237 - val_accuracy: 0.7343\n",
      "Epoch 4/100\n",
      "36/36 [==============================] - 0s 4ms/step - loss: 1.0978 - accuracy: 0.7492 - val_loss: 1.1153 - val_accuracy: 0.7343\n",
      "Epoch 5/100\n",
      "36/36 [==============================] - 0s 3ms/step - loss: 1.1031 - accuracy: 0.7443 - val_loss: 1.0941 - val_accuracy: 0.7343\n",
      "Epoch 6/100\n",
      "36/36 [==============================] - 0s 3ms/step - loss: 1.1083 - accuracy: 0.7329 - val_loss: 1.0880 - val_accuracy: 0.7343\n",
      "Epoch 7/100\n",
      "36/36 [==============================] - 0s 3ms/step - loss: 1.0968 - accuracy: 0.7420 - val_loss: 1.0726 - val_accuracy: 0.7343\n",
      "Epoch 8/100\n",
      "36/36 [==============================] - 0s 3ms/step - loss: 1.0471 - accuracy: 0.7494 - val_loss: 1.0631 - val_accuracy: 0.7343\n",
      "Epoch 9/100\n",
      "36/36 [==============================] - 0s 3ms/step - loss: 1.0906 - accuracy: 0.7214 - val_loss: 1.0543 - val_accuracy: 0.7343\n",
      "Epoch 10/100\n",
      "36/36 [==============================] - 0s 3ms/step - loss: 1.0115 - accuracy: 0.7571 - val_loss: 1.0432 - val_accuracy: 0.7343\n",
      "Epoch 11/100\n",
      "36/36 [==============================] - 0s 4ms/step - loss: 0.9416 - accuracy: 0.7698 - val_loss: 1.0297 - val_accuracy: 0.7343\n",
      "Epoch 12/100\n",
      "36/36 [==============================] - 0s 3ms/step - loss: 1.0345 - accuracy: 0.7280 - val_loss: 1.0207 - val_accuracy: 0.7343\n",
      "Epoch 13/100\n",
      "36/36 [==============================] - 0s 4ms/step - loss: 1.0183 - accuracy: 0.7376 - val_loss: 1.0135 - val_accuracy: 0.7343\n",
      "Epoch 14/100\n",
      "36/36 [==============================] - 0s 4ms/step - loss: 0.9789 - accuracy: 0.7534 - val_loss: 1.0038 - val_accuracy: 0.7343\n",
      "Epoch 15/100\n",
      "36/36 [==============================] - 0s 3ms/step - loss: 0.9388 - accuracy: 0.7648 - val_loss: 0.9976 - val_accuracy: 0.7343\n",
      "Epoch 16/100\n",
      "36/36 [==============================] - 0s 3ms/step - loss: 0.9675 - accuracy: 0.7491 - val_loss: 0.9916 - val_accuracy: 0.7343\n",
      "Epoch 17/100\n",
      "36/36 [==============================] - 0s 4ms/step - loss: 0.9660 - accuracy: 0.7452 - val_loss: 0.9863 - val_accuracy: 0.7343\n",
      "Epoch 18/100\n",
      "36/36 [==============================] - 0s 4ms/step - loss: 0.9303 - accuracy: 0.7595 - val_loss: 0.9804 - val_accuracy: 0.7343\n",
      "Epoch 19/100\n",
      "36/36 [==============================] - 0s 4ms/step - loss: 0.9082 - accuracy: 0.7709 - val_loss: 0.9752 - val_accuracy: 0.7343\n",
      "Epoch 20/100\n",
      "36/36 [==============================] - 0s 3ms/step - loss: 0.9029 - accuracy: 0.7670 - val_loss: 0.9704 - val_accuracy: 0.7343\n",
      "Epoch 21/100\n",
      "36/36 [==============================] - 0s 3ms/step - loss: 0.9021 - accuracy: 0.7680 - val_loss: 0.9654 - val_accuracy: 0.7343\n",
      "Epoch 22/100\n",
      "36/36 [==============================] - 0s 3ms/step - loss: 0.9436 - accuracy: 0.7444 - val_loss: 0.9611 - val_accuracy: 0.7343\n",
      "Epoch 23/100\n",
      "36/36 [==============================] - 0s 3ms/step - loss: 0.8983 - accuracy: 0.7640 - val_loss: 0.9566 - val_accuracy: 0.7343\n",
      "Epoch 24/100\n",
      "36/36 [==============================] - 0s 4ms/step - loss: 0.9019 - accuracy: 0.7538 - val_loss: 0.9525 - val_accuracy: 0.7343\n",
      "Epoch 25/100\n",
      "36/36 [==============================] - 0s 4ms/step - loss: 0.9112 - accuracy: 0.7485 - val_loss: 0.9485 - val_accuracy: 0.7343\n",
      "Epoch 26/100\n",
      "36/36 [==============================] - 0s 4ms/step - loss: 0.9287 - accuracy: 0.7424 - val_loss: 0.9448 - val_accuracy: 0.7343\n",
      "Epoch 27/100\n",
      "36/36 [==============================] - 0s 3ms/step - loss: 0.8560 - accuracy: 0.7708 - val_loss: 0.9411 - val_accuracy: 0.7343\n",
      "Epoch 28/100\n",
      "36/36 [==============================] - 0s 3ms/step - loss: 0.9313 - accuracy: 0.7413 - val_loss: 0.9398 - val_accuracy: 0.7343\n",
      "Epoch 29/100\n",
      "36/36 [==============================] - 0s 3ms/step - loss: 0.8548 - accuracy: 0.7635 - val_loss: 0.9345 - val_accuracy: 0.7343\n",
      "Epoch 30/100\n",
      "36/36 [==============================] - 0s 3ms/step - loss: 0.9139 - accuracy: 0.7413 - val_loss: 0.9323 - val_accuracy: 0.7343\n",
      "Epoch 31/100\n",
      "36/36 [==============================] - 0s 3ms/step - loss: 0.9136 - accuracy: 0.7392 - val_loss: 0.9292 - val_accuracy: 0.7343\n",
      "Epoch 32/100\n",
      "36/36 [==============================] - 0s 4ms/step - loss: 0.9006 - accuracy: 0.7434 - val_loss: 0.9266 - val_accuracy: 0.7343\n",
      "Epoch 33/100\n",
      "36/36 [==============================] - 0s 4ms/step - loss: 0.8639 - accuracy: 0.7610 - val_loss: 0.9226 - val_accuracy: 0.7343\n",
      "Epoch 34/100\n",
      "36/36 [==============================] - 0s 4ms/step - loss: 0.8386 - accuracy: 0.7677 - val_loss: 0.9201 - val_accuracy: 0.7343\n",
      "Epoch 35/100\n",
      "36/36 [==============================] - 0s 3ms/step - loss: 0.8471 - accuracy: 0.7631 - val_loss: 0.9175 - val_accuracy: 0.7343\n",
      "Epoch 36/100\n",
      "36/36 [==============================] - 0s 4ms/step - loss: 0.9240 - accuracy: 0.7294 - val_loss: 0.9159 - val_accuracy: 0.7343\n",
      "Epoch 37/100\n",
      "36/36 [==============================] - 0s 3ms/step - loss: 0.8701 - accuracy: 0.7465 - val_loss: 0.9136 - val_accuracy: 0.7343\n",
      "Epoch 38/100\n",
      "36/36 [==============================] - 0s 3ms/step - loss: 0.8486 - accuracy: 0.7601 - val_loss: 0.9108 - val_accuracy: 0.7343\n",
      "Epoch 39/100\n",
      "36/36 [==============================] - 0s 3ms/step - loss: 0.8788 - accuracy: 0.7457 - val_loss: 0.9092 - val_accuracy: 0.7343\n",
      "Epoch 40/100\n",
      "36/36 [==============================] - 0s 3ms/step - loss: 0.8767 - accuracy: 0.7442 - val_loss: 0.9072 - val_accuracy: 0.7343\n",
      "Epoch 41/100\n",
      "36/36 [==============================] - 0s 3ms/step - loss: 0.8872 - accuracy: 0.7399 - val_loss: 0.9055 - val_accuracy: 0.7343\n",
      "Epoch 42/100\n",
      "36/36 [==============================] - 0s 4ms/step - loss: 0.8569 - accuracy: 0.7473 - val_loss: 0.9031 - val_accuracy: 0.7343\n",
      "Epoch 43/100\n",
      "36/36 [==============================] - 0s 4ms/step - loss: 0.8774 - accuracy: 0.7407 - val_loss: 0.9015 - val_accuracy: 0.7343\n",
      "Epoch 44/100\n",
      "36/36 [==============================] - 0s 4ms/step - loss: 0.8796 - accuracy: 0.7406 - val_loss: 0.9006 - val_accuracy: 0.7343\n",
      "Epoch 45/100\n",
      "36/36 [==============================] - 0s 3ms/step - loss: 0.8744 - accuracy: 0.7382 - val_loss: 0.8990 - val_accuracy: 0.7343\n",
      "Epoch 46/100\n",
      "36/36 [==============================] - 0s 3ms/step - loss: 0.8714 - accuracy: 0.7433 - val_loss: 0.8981 - val_accuracy: 0.7343\n",
      "Epoch 47/100\n",
      "36/36 [==============================] - 0s 3ms/step - loss: 0.8356 - accuracy: 0.7582 - val_loss: 0.8954 - val_accuracy: 0.7343\n",
      "Epoch 48/100\n",
      "36/36 [==============================] - 0s 3ms/step - loss: 0.8496 - accuracy: 0.7520 - val_loss: 0.8942 - val_accuracy: 0.7343\n",
      "Epoch 49/100\n",
      "36/36 [==============================] - 0s 3ms/step - loss: 0.8101 - accuracy: 0.7627 - val_loss: 0.8928 - val_accuracy: 0.7343\n",
      "Epoch 50/100\n",
      "36/36 [==============================] - ETA: 0s - loss: 0.8165 - accuracy: 0.76 - 0s 3ms/step - loss: 0.8188 - accuracy: 0.7606 - val_loss: 0.8916 - val_accuracy: 0.7343\n",
      "Epoch 51/100\n",
      "36/36 [==============================] - 0s 3ms/step - loss: 0.8596 - accuracy: 0.7386 - val_loss: 0.8904 - val_accuracy: 0.7343\n",
      "Epoch 52/100\n",
      "36/36 [==============================] - 0s 3ms/step - loss: 0.8451 - accuracy: 0.7454 - val_loss: 0.8894 - val_accuracy: 0.7343\n",
      "Epoch 53/100\n",
      "36/36 [==============================] - 0s 3ms/step - loss: 0.8166 - accuracy: 0.7605 - val_loss: 0.8883 - val_accuracy: 0.7343\n",
      "Epoch 54/100\n",
      "36/36 [==============================] - 0s 4ms/step - loss: 0.8445 - accuracy: 0.7476 - val_loss: 0.8877 - val_accuracy: 0.7343\n",
      "Epoch 55/100\n",
      "36/36 [==============================] - 0s 4ms/step - loss: 0.8499 - accuracy: 0.7409 - val_loss: 0.8867 - val_accuracy: 0.7343\n",
      "Epoch 56/100\n",
      "36/36 [==============================] - 0s 4ms/step - loss: 0.8751 - accuracy: 0.7348 - val_loss: 0.8873 - val_accuracy: 0.7343\n",
      "Epoch 57/100\n",
      "36/36 [==============================] - 0s 4ms/step - loss: 0.8069 - accuracy: 0.7676 - val_loss: 0.8846 - val_accuracy: 0.7343\n",
      "Epoch 58/100\n"
     ]
    },
    {
     "name": "stdout",
     "output_type": "stream",
     "text": [
      "36/36 [==============================] - 0s 4ms/step - loss: 0.7765 - accuracy: 0.7741 - val_loss: 0.8840 - val_accuracy: 0.7343\n",
      "Epoch 59/100\n",
      "36/36 [==============================] - 0s 3ms/step - loss: 0.8145 - accuracy: 0.7575 - val_loss: 0.8832 - val_accuracy: 0.7343\n",
      "Epoch 60/100\n",
      "36/36 [==============================] - 0s 3ms/step - loss: 0.8222 - accuracy: 0.7619 - val_loss: 0.8824 - val_accuracy: 0.7343\n",
      "Epoch 61/100\n",
      "36/36 [==============================] - 0s 4ms/step - loss: 0.8504 - accuracy: 0.7384 - val_loss: 0.8833 - val_accuracy: 0.7343\n",
      "Epoch 62/100\n",
      "36/36 [==============================] - 0s 3ms/step - loss: 0.8260 - accuracy: 0.7540 - val_loss: 0.8815 - val_accuracy: 0.7343\n",
      "Epoch 63/100\n",
      "36/36 [==============================] - 0s 3ms/step - loss: 0.8466 - accuracy: 0.7390 - val_loss: 0.8811 - val_accuracy: 0.7343\n",
      "Epoch 64/100\n",
      "36/36 [==============================] - 0s 3ms/step - loss: 0.8193 - accuracy: 0.7534 - val_loss: 0.8798 - val_accuracy: 0.7343\n",
      "Epoch 65/100\n",
      "36/36 [==============================] - 0s 3ms/step - loss: 0.8318 - accuracy: 0.7504 - val_loss: 0.8805 - val_accuracy: 0.7343\n",
      "Epoch 66/100\n",
      "36/36 [==============================] - 0s 3ms/step - loss: 0.8462 - accuracy: 0.7389 - val_loss: 0.8798 - val_accuracy: 0.7343\n",
      "Epoch 67/100\n",
      "36/36 [==============================] - 0s 3ms/step - loss: 0.8285 - accuracy: 0.7486 - val_loss: 0.8786 - val_accuracy: 0.7343\n",
      "Epoch 68/100\n",
      "36/36 [==============================] - 0s 3ms/step - loss: 0.8163 - accuracy: 0.7556 - val_loss: 0.8777 - val_accuracy: 0.7343\n",
      "Epoch 69/100\n",
      "36/36 [==============================] - 0s 3ms/step - loss: 0.8050 - accuracy: 0.7609 - val_loss: 0.8773 - val_accuracy: 0.7343\n",
      "Epoch 70/100\n",
      "36/36 [==============================] - 0s 3ms/step - loss: 0.7850 - accuracy: 0.7663 - val_loss: 0.8768 - val_accuracy: 0.7343\n",
      "Epoch 71/100\n",
      "36/36 [==============================] - 0s 3ms/step - loss: 0.8371 - accuracy: 0.7438 - val_loss: 0.8766 - val_accuracy: 0.7343\n",
      "Epoch 72/100\n",
      "36/36 [==============================] - 0s 3ms/step - loss: 0.8111 - accuracy: 0.7588 - val_loss: 0.8767 - val_accuracy: 0.7343\n",
      "Epoch 73/100\n",
      "36/36 [==============================] - 0s 3ms/step - loss: 0.8817 - accuracy: 0.7249 - val_loss: 0.8774 - val_accuracy: 0.7343\n",
      "Epoch 74/100\n",
      "36/36 [==============================] - 0s 3ms/step - loss: 0.7863 - accuracy: 0.7620 - val_loss: 0.8754 - val_accuracy: 0.7343\n",
      "Epoch 75/100\n",
      "36/36 [==============================] - 0s 3ms/step - loss: 0.8443 - accuracy: 0.7429 - val_loss: 0.8754 - val_accuracy: 0.7343\n",
      "Epoch 76/100\n",
      "36/36 [==============================] - 0s 3ms/step - loss: 0.7947 - accuracy: 0.7623 - val_loss: 0.8751 - val_accuracy: 0.7343\n",
      "Epoch 77/100\n",
      "36/36 [==============================] - 0s 3ms/step - loss: 0.8006 - accuracy: 0.7598 - val_loss: 0.8747 - val_accuracy: 0.7343\n",
      "Epoch 78/100\n",
      "36/36 [==============================] - 0s 3ms/step - loss: 0.8357 - accuracy: 0.7423 - val_loss: 0.8745 - val_accuracy: 0.7343\n",
      "Epoch 79/100\n",
      "36/36 [==============================] - 0s 2ms/step - loss: 0.8328 - accuracy: 0.7468 - val_loss: 0.8748 - val_accuracy: 0.7343\n",
      "Epoch 80/100\n",
      "36/36 [==============================] - 0s 3ms/step - loss: 0.8365 - accuracy: 0.7419 - val_loss: 0.8755 - val_accuracy: 0.7343\n",
      "Epoch 81/100\n",
      "36/36 [==============================] - 0s 3ms/step - loss: 0.7967 - accuracy: 0.7581 - val_loss: 0.8739 - val_accuracy: 0.7343\n",
      "Epoch 82/100\n",
      "36/36 [==============================] - 0s 2ms/step - loss: 0.8566 - accuracy: 0.7304 - val_loss: 0.8738 - val_accuracy: 0.7343\n",
      "Epoch 83/100\n",
      "36/36 [==============================] - 0s 3ms/step - loss: 0.8397 - accuracy: 0.7376 - val_loss: 0.8747 - val_accuracy: 0.7343\n",
      "Epoch 84/100\n",
      "36/36 [==============================] - 0s 3ms/step - loss: 0.8051 - accuracy: 0.7524 - val_loss: 0.8732 - val_accuracy: 0.7343\n",
      "Epoch 85/100\n",
      "36/36 [==============================] - 0s 3ms/step - loss: 0.8135 - accuracy: 0.7514 - val_loss: 0.8734 - val_accuracy: 0.7343\n",
      "Epoch 86/100\n",
      "36/36 [==============================] - 0s 3ms/step - loss: 0.8393 - accuracy: 0.7328 - val_loss: 0.8739 - val_accuracy: 0.7343\n",
      "Epoch 87/100\n",
      "36/36 [==============================] - 0s 2ms/step - loss: 0.8334 - accuracy: 0.7383 - val_loss: 0.8731 - val_accuracy: 0.7343\n",
      "Epoch 88/100\n",
      "36/36 [==============================] - 0s 3ms/step - loss: 0.8063 - accuracy: 0.7572 - val_loss: 0.8722 - val_accuracy: 0.7343\n",
      "Epoch 89/100\n",
      "36/36 [==============================] - 0s 3ms/step - loss: 0.7668 - accuracy: 0.7655 - val_loss: 0.8720 - val_accuracy: 0.7343\n",
      "Epoch 90/100\n",
      "36/36 [==============================] - 0s 3ms/step - loss: 0.8355 - accuracy: 0.7438 - val_loss: 0.8723 - val_accuracy: 0.7343\n",
      "Epoch 91/100\n",
      "36/36 [==============================] - 0s 3ms/step - loss: 0.8611 - accuracy: 0.7219 - val_loss: 0.8724 - val_accuracy: 0.7343\n",
      "Epoch 92/100\n",
      "36/36 [==============================] - 0s 3ms/step - loss: 0.7895 - accuracy: 0.7604 - val_loss: 0.8716 - val_accuracy: 0.7343\n",
      "Epoch 93/100\n",
      "36/36 [==============================] - 0s 3ms/step - loss: 0.8039 - accuracy: 0.7523 - val_loss: 0.8731 - val_accuracy: 0.7343\n",
      "Epoch 94/100\n",
      "36/36 [==============================] - 0s 3ms/step - loss: 0.8065 - accuracy: 0.7566 - val_loss: 0.8714 - val_accuracy: 0.7343\n",
      "Epoch 95/100\n",
      "36/36 [==============================] - 0s 3ms/step - loss: 0.7911 - accuracy: 0.7662 - val_loss: 0.8715 - val_accuracy: 0.7343\n",
      "Epoch 96/100\n",
      "36/36 [==============================] - 0s 3ms/step - loss: 0.7793 - accuracy: 0.7661 - val_loss: 0.8712 - val_accuracy: 0.7343\n",
      "Epoch 97/100\n",
      "36/36 [==============================] - 0s 3ms/step - loss: 0.8280 - accuracy: 0.7481 - val_loss: 0.8712 - val_accuracy: 0.7343\n",
      "Epoch 98/100\n",
      "36/36 [==============================] - 0s 3ms/step - loss: 0.7536 - accuracy: 0.7719 - val_loss: 0.8711 - val_accuracy: 0.7343\n",
      "Epoch 99/100\n",
      "36/36 [==============================] - 0s 3ms/step - loss: 0.7694 - accuracy: 0.7675 - val_loss: 0.8710 - val_accuracy: 0.7343\n",
      "Epoch 100/100\n",
      "36/36 [==============================] - 0s 3ms/step - loss: 0.8146 - accuracy: 0.7441 - val_loss: 0.8717 - val_accuracy: 0.7343\n"
     ]
    },
    {
     "data": {
      "text/plain": [
       "<tensorflow.python.keras.callbacks.History at 0x1aa55ec3190>"
      ]
     },
     "execution_count": 88,
     "metadata": {},
     "output_type": "execute_result"
    }
   ],
   "source": [
    "from keras.models import Sequential\n",
    "from keras.layers import Dense\n",
    "\n",
    "model = Sequential()\n",
    "\n",
    "model.add(Dense(64,input_dim = 4, activation='relu'))\n",
    "model.add(Dense(124,activation='relu'))\n",
    "model.add(Dense(6,activation='softmax'))\n",
    "\n",
    "model.compile(loss='sparse_categorical_crossentropy',optimizer='sgd',metrics=['accuracy'])\n",
    "model.fit(X_train,y_train,epochs=100,validation_split=0.2)"
   ]
  },
  {
   "cell_type": "code",
   "execution_count": 10,
   "id": "1f598c55",
   "metadata": {},
   "outputs": [],
   "source": [
    "# import numpy as np\n",
    "# preds = model.predict(X_test)\n",
    "# predicted = np.argmax(preds,axis=1)\n",
    "# predicted\n",
    "# # predicted = np.argmax(X_test)"
   ]
  },
  {
   "cell_type": "code",
   "execution_count": 11,
   "id": "3ee2b57d",
   "metadata": {},
   "outputs": [],
   "source": [
    "# from keras.models import Sequential\n",
    "# from keras.layers import Dense, Dropout, LSTM\n",
    "# model2 = Sequential()\n",
    "\n",
    "# model2.add(LSTM(128,input_shape=X_train.shape,return_sequences=True,activation='relu'))\n",
    "# model2.add(Dropout(0.5))\n",
    "\n",
    "# model2.add(LSTM(128,activation='relu'))\n",
    "# model2.add(Dropout(0.5))\n",
    "\n",
    "# model2.add(Dense(6,activation='softmax'))\n",
    "# model2.add(Dropout(0.5))\n",
    "\n",
    "# model.compile(loss='sparse_categorical_crossentropy',optimizer='sgd',metrics=['accuracy'])\n",
    "# model.fit(X_train,y_train,epochs=100,validation_split=0.2)"
   ]
  },
  {
   "cell_type": "code",
   "execution_count": null,
   "id": "a64a7668",
   "metadata": {},
   "outputs": [],
   "source": []
  },
  {
   "cell_type": "code",
   "execution_count": null,
   "id": "c50384ea",
   "metadata": {},
   "outputs": [],
   "source": []
  }
 ],
 "metadata": {
  "kernelspec": {
   "display_name": "Python 3",
   "language": "python",
   "name": "python3"
  },
  "language_info": {
   "codemirror_mode": {
    "name": "ipython",
    "version": 3
   },
   "file_extension": ".py",
   "mimetype": "text/x-python",
   "name": "python",
   "nbconvert_exporter": "python",
   "pygments_lexer": "ipython3",
   "version": "3.8.6"
  }
 },
 "nbformat": 4,
 "nbformat_minor": 5
}
