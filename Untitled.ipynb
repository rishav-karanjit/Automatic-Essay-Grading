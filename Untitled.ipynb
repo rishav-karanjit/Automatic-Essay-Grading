{
 "cells": [
  {
   "cell_type": "markdown",
   "id": "9723f771",
   "metadata": {},
   "source": [
    "# Load Data"
   ]
  },
  {
   "cell_type": "code",
   "execution_count": 16,
   "id": "bff06b8e",
   "metadata": {
    "scrolled": false
   },
   "outputs": [],
   "source": [
    "import pandas as pd\n",
    "from sklearn.model_selection import train_test_split\n",
    "from sklearn.preprocessing import StandardScaler\n",
    "\n",
    "df = pd.read_csv(\"Dataset/Dataset2.csv\")\n",
    "\n",
    "X = df.iloc[:,1:5]\n",
    "y = df.iloc[:,9]\n",
    "\n",
    "# scaler = StandardScaler()\n",
    "# X = scaler.fit_transform(X)\n",
    "X_train, X_test, y_train, y_test = train_test_split(X, y,test_size=0.20, random_state=101)"
   ]
  },
  {
   "cell_type": "code",
   "execution_count": 17,
   "id": "a8152f60",
   "metadata": {
    "scrolled": true
   },
   "outputs": [
    {
     "data": {
      "text/html": [
       "<div>\n",
       "<style scoped>\n",
       "    .dataframe tbody tr th:only-of-type {\n",
       "        vertical-align: middle;\n",
       "    }\n",
       "\n",
       "    .dataframe tbody tr th {\n",
       "        vertical-align: top;\n",
       "    }\n",
       "\n",
       "    .dataframe thead th {\n",
       "        text-align: right;\n",
       "    }\n",
       "</style>\n",
       "<table border=\"1\" class=\"dataframe\">\n",
       "  <thead>\n",
       "    <tr style=\"text-align: right;\">\n",
       "      <th></th>\n",
       "      <th>No. of Characters</th>\n",
       "      <th>No. of Words</th>\n",
       "      <th>No. of Unique words</th>\n",
       "      <th>POS Sum</th>\n",
       "    </tr>\n",
       "  </thead>\n",
       "  <tbody>\n",
       "    <tr>\n",
       "      <th>0</th>\n",
       "      <td>2844</td>\n",
       "      <td>586</td>\n",
       "      <td>45</td>\n",
       "      <td>376</td>\n",
       "    </tr>\n",
       "    <tr>\n",
       "      <th>1</th>\n",
       "      <td>2841</td>\n",
       "      <td>573</td>\n",
       "      <td>58</td>\n",
       "      <td>339</td>\n",
       "    </tr>\n",
       "    <tr>\n",
       "      <th>2</th>\n",
       "      <td>1263</td>\n",
       "      <td>279</td>\n",
       "      <td>50</td>\n",
       "      <td>170</td>\n",
       "    </tr>\n",
       "    <tr>\n",
       "      <th>3</th>\n",
       "      <td>2836</td>\n",
       "      <td>603</td>\n",
       "      <td>47</td>\n",
       "      <td>350</td>\n",
       "    </tr>\n",
       "    <tr>\n",
       "      <th>4</th>\n",
       "      <td>2833</td>\n",
       "      <td>581</td>\n",
       "      <td>50</td>\n",
       "      <td>346</td>\n",
       "    </tr>\n",
       "  </tbody>\n",
       "</table>\n",
       "</div>"
      ],
      "text/plain": [
       "   No. of Characters  No. of Words  No. of Unique words  POS Sum\n",
       "0               2844           586                   45      376\n",
       "1               2841           573                   58      339\n",
       "2               1263           279                   50      170\n",
       "3               2836           603                   47      350\n",
       "4               2833           581                   50      346"
      ]
     },
     "execution_count": 17,
     "metadata": {},
     "output_type": "execute_result"
    }
   ],
   "source": [
    "X.head()"
   ]
  },
  {
   "cell_type": "code",
   "execution_count": 20,
   "id": "1b6b5f99",
   "metadata": {},
   "outputs": [
    {
     "data": {
      "text/plain": [
       "0    5\n",
       "1    5\n",
       "2    3\n",
       "3    5\n",
       "4    5\n",
       "Name: Score, dtype: int64"
      ]
     },
     "execution_count": 20,
     "metadata": {},
     "output_type": "execute_result"
    }
   ],
   "source": [
    "y.head()"
   ]
  },
  {
   "cell_type": "code",
   "execution_count": 6,
   "id": "097ff540",
   "metadata": {},
   "outputs": [
    {
     "data": {
      "text/html": [
       "<div>\n",
       "<style scoped>\n",
       "    .dataframe tbody tr th:only-of-type {\n",
       "        vertical-align: middle;\n",
       "    }\n",
       "\n",
       "    .dataframe tbody tr th {\n",
       "        vertical-align: top;\n",
       "    }\n",
       "\n",
       "    .dataframe thead th {\n",
       "        text-align: right;\n",
       "    }\n",
       "</style>\n",
       "<table border=\"1\" class=\"dataframe\">\n",
       "  <thead>\n",
       "    <tr style=\"text-align: right;\">\n",
       "      <th></th>\n",
       "      <th>No. of Characters</th>\n",
       "      <th>No. of Words</th>\n",
       "      <th>No. of Unique words</th>\n",
       "      <th>POS Sum</th>\n",
       "      <th>No. of Noun</th>\n",
       "      <th>No. of Adv</th>\n",
       "      <th>No. of Verb</th>\n",
       "      <th>No. of Adverb</th>\n",
       "      <th>Score</th>\n",
       "    </tr>\n",
       "  </thead>\n",
       "  <tbody>\n",
       "    <tr>\n",
       "      <th>count</th>\n",
       "      <td>3684.000000</td>\n",
       "      <td>3684.000000</td>\n",
       "      <td>3684.000000</td>\n",
       "      <td>3684.000000</td>\n",
       "      <td>3684.000000</td>\n",
       "      <td>3684.000000</td>\n",
       "      <td>3684.000000</td>\n",
       "      <td>3684.000000</td>\n",
       "      <td>3684.000000</td>\n",
       "    </tr>\n",
       "    <tr>\n",
       "      <th>mean</th>\n",
       "      <td>1126.471498</td>\n",
       "      <td>246.705483</td>\n",
       "      <td>43.087676</td>\n",
       "      <td>144.387079</td>\n",
       "      <td>64.280945</td>\n",
       "      <td>17.024701</td>\n",
       "      <td>48.301846</td>\n",
       "      <td>14.779587</td>\n",
       "      <td>3.190011</td>\n",
       "    </tr>\n",
       "    <tr>\n",
       "      <th>std</th>\n",
       "      <td>757.476114</td>\n",
       "      <td>163.480576</td>\n",
       "      <td>9.053416</td>\n",
       "      <td>99.520040</td>\n",
       "      <td>43.981410</td>\n",
       "      <td>12.589045</td>\n",
       "      <td>34.154495</td>\n",
       "      <td>12.437615</td>\n",
       "      <td>1.057021</td>\n",
       "    </tr>\n",
       "    <tr>\n",
       "      <th>min</th>\n",
       "      <td>16.000000</td>\n",
       "      <td>4.000000</td>\n",
       "      <td>14.000000</td>\n",
       "      <td>3.000000</td>\n",
       "      <td>0.000000</td>\n",
       "      <td>0.000000</td>\n",
       "      <td>0.000000</td>\n",
       "      <td>0.000000</td>\n",
       "      <td>1.000000</td>\n",
       "    </tr>\n",
       "    <tr>\n",
       "      <th>25%</th>\n",
       "      <td>510.750000</td>\n",
       "      <td>113.000000</td>\n",
       "      <td>37.000000</td>\n",
       "      <td>63.000000</td>\n",
       "      <td>29.000000</td>\n",
       "      <td>7.000000</td>\n",
       "      <td>20.000000</td>\n",
       "      <td>5.000000</td>\n",
       "      <td>2.000000</td>\n",
       "    </tr>\n",
       "    <tr>\n",
       "      <th>50%</th>\n",
       "      <td>925.500000</td>\n",
       "      <td>201.000000</td>\n",
       "      <td>43.000000</td>\n",
       "      <td>116.000000</td>\n",
       "      <td>53.000000</td>\n",
       "      <td>14.000000</td>\n",
       "      <td>37.000000</td>\n",
       "      <td>11.000000</td>\n",
       "      <td>3.000000</td>\n",
       "    </tr>\n",
       "    <tr>\n",
       "      <th>75%</th>\n",
       "      <td>1670.000000</td>\n",
       "      <td>368.000000</td>\n",
       "      <td>50.000000</td>\n",
       "      <td>218.000000</td>\n",
       "      <td>94.000000</td>\n",
       "      <td>25.000000</td>\n",
       "      <td>74.000000</td>\n",
       "      <td>23.000000</td>\n",
       "      <td>4.000000</td>\n",
       "    </tr>\n",
       "    <tr>\n",
       "      <th>max</th>\n",
       "      <td>4720.000000</td>\n",
       "      <td>1023.000000</td>\n",
       "      <td>68.000000</td>\n",
       "      <td>617.000000</td>\n",
       "      <td>300.000000</td>\n",
       "      <td>78.000000</td>\n",
       "      <td>263.000000</td>\n",
       "      <td>87.000000</td>\n",
       "      <td>5.000000</td>\n",
       "    </tr>\n",
       "  </tbody>\n",
       "</table>\n",
       "</div>"
      ],
      "text/plain": [
       "       No. of Characters  No. of Words  No. of Unique words      POS Sum  \\\n",
       "count        3684.000000   3684.000000          3684.000000  3684.000000   \n",
       "mean         1126.471498    246.705483            43.087676   144.387079   \n",
       "std           757.476114    163.480576             9.053416    99.520040   \n",
       "min            16.000000      4.000000            14.000000     3.000000   \n",
       "25%           510.750000    113.000000            37.000000    63.000000   \n",
       "50%           925.500000    201.000000            43.000000   116.000000   \n",
       "75%          1670.000000    368.000000            50.000000   218.000000   \n",
       "max          4720.000000   1023.000000            68.000000   617.000000   \n",
       "\n",
       "       No. of Noun   No. of Adv  No. of Verb  No. of Adverb        Score  \n",
       "count  3684.000000  3684.000000  3684.000000    3684.000000  3684.000000  \n",
       "mean     64.280945    17.024701    48.301846      14.779587     3.190011  \n",
       "std      43.981410    12.589045    34.154495      12.437615     1.057021  \n",
       "min       0.000000     0.000000     0.000000       0.000000     1.000000  \n",
       "25%      29.000000     7.000000    20.000000       5.000000     2.000000  \n",
       "50%      53.000000    14.000000    37.000000      11.000000     3.000000  \n",
       "75%      94.000000    25.000000    74.000000      23.000000     4.000000  \n",
       "max     300.000000    78.000000   263.000000      87.000000     5.000000  "
      ]
     },
     "execution_count": 6,
     "metadata": {},
     "output_type": "execute_result"
    }
   ],
   "source": [
    "df.describe()"
   ]
  },
  {
   "cell_type": "code",
   "execution_count": 7,
   "id": "e8aaa50c",
   "metadata": {
    "scrolled": false
   },
   "outputs": [
    {
     "name": "stdout",
     "output_type": "stream",
     "text": [
      "<class 'pandas.core.frame.DataFrame'>\n",
      "RangeIndex: 3684 entries, 0 to 3683\n",
      "Data columns (total 10 columns):\n",
      " #   Column               Non-Null Count  Dtype \n",
      "---  ------               --------------  ----- \n",
      " 0   essay                3684 non-null   object\n",
      " 1   No. of Characters    3684 non-null   int64 \n",
      " 2   No. of Words         3684 non-null   int64 \n",
      " 3   No. of Unique words  3684 non-null   int64 \n",
      " 4   POS Sum              3684 non-null   int64 \n",
      " 5   No. of Noun          3684 non-null   int64 \n",
      " 6   No. of Adv           3684 non-null   int64 \n",
      " 7   No. of Verb          3684 non-null   int64 \n",
      " 8   No. of Adverb        3684 non-null   int64 \n",
      " 9   Score                3684 non-null   int64 \n",
      "dtypes: int64(9), object(1)\n",
      "memory usage: 287.9+ KB\n"
     ]
    }
   ],
   "source": [
    "df.info()"
   ]
  },
  {
   "cell_type": "markdown",
   "id": "88c9a778",
   "metadata": {},
   "source": [
    "# Data Analysis"
   ]
  },
  {
   "cell_type": "markdown",
   "id": "a81e5aa5",
   "metadata": {},
   "source": [
    "### Bar Graph on number of essay based on grade"
   ]
  },
  {
   "cell_type": "code",
   "execution_count": 3,
   "id": "494a8b09",
   "metadata": {
    "scrolled": false
   },
   "outputs": [
    {
     "data": {
      "text/plain": [
       "<AxesSubplot:ylabel='Frequency'>"
      ]
     },
     "execution_count": 3,
     "metadata": {},
     "output_type": "execute_result"
    },
    {
     "data": {
      "image/png": "[encoded data removed]",
      "text/plain": [
       "<Figure size 432x288 with 1 Axes>"
      ]
     },
     "metadata": {
      "needs_background": "light"
     },
     "output_type": "display_data"
    }
   ],
   "source": [
    "df.iloc[:,9].plot(kind='hist')"
   ]
  },
  {
   "cell_type": "markdown",
   "id": "e274d5e9",
   "metadata": {},
   "source": [
    "Observation: Imbalanced data"
   ]
  },
  {
   "cell_type": "markdown",
   "id": "e9842c36",
   "metadata": {},
   "source": [
    "### Score vs No. of Characters"
   ]
  },
  {
   "cell_type": "code",
   "execution_count": 4,
   "id": "a73bc370",
   "metadata": {},
   "outputs": [
    {
     "data": {
      "text/plain": [
       "<AxesSubplot:xlabel='Score', ylabel='No. of Characters'>"
      ]
     },
     "execution_count": 4,
     "metadata": {},
     "output_type": "execute_result"
    },
    {
     "data": {
      "image/png": "[encoded data removed]",
      "text/plain": [
       "<Figure size 432x288 with 1 Axes>"
      ]
     },
     "metadata": {},
     "output_type": "display_data"
    }
   ],
   "source": [
    "import seaborn as sns\n",
    "sns.set_style(\"whitegrid\")\n",
    "sns.barplot(x=\"Score\",y='No. of Characters',hue='Score',data=df,palette=\"rocket\")"
   ]
  },
  {
   "cell_type": "markdown",
   "id": "a2e7c7c8",
   "metadata": {},
   "source": [
    "### Score vs No. of Words"
   ]
  },
  {
   "cell_type": "code",
   "execution_count": 5,
   "id": "53072e1f",
   "metadata": {
    "scrolled": true
   },
   "outputs": [
    {
     "data": {
      "text/plain": [
       "<AxesSubplot:xlabel='Score', ylabel='No. of Words'>"
      ]
     },
     "execution_count": 5,
     "metadata": {},
     "output_type": "execute_result"
    },
    {
     "data": {
      "image/png": "[encoded data removed]",
      "text/plain": [
       "<Figure size 432x288 with 1 Axes>"
      ]
     },
     "metadata": {},
     "output_type": "display_data"
    }
   ],
   "source": [
    "sns.barplot(x=\"Score\",y='No. of Words',hue='Score',data=df,palette=\"rocket\")"
   ]
  },
  {
   "cell_type": "markdown",
   "id": "1cd31d56",
   "metadata": {},
   "source": [
    "### Score vs No. of Unique words"
   ]
  },
  {
   "cell_type": "code",
   "execution_count": 6,
   "id": "e51d533b",
   "metadata": {
    "scrolled": true
   },
   "outputs": [
    {
     "data": {
      "text/plain": [
       "<AxesSubplot:xlabel='Score', ylabel='No. of Unique words'>"
      ]
     },
     "execution_count": 6,
     "metadata": {},
     "output_type": "execute_result"
    },
    {
     "data": {
      "image/png": "[encoded data removed]",
      "text/plain": [
       "<Figure size 432x288 with 1 Axes>"
      ]
     },
     "metadata": {},
     "output_type": "display_data"
    }
   ],
   "source": [
    "sns.barplot(x=\"Score\",y='No. of Unique words',hue='Score',data=df,palette=\"rocket\")"
   ]
  },
  {
   "cell_type": "markdown",
   "id": "6421d8eb",
   "metadata": {},
   "source": [
    "### Score vs POS Sum"
   ]
  },
  {
   "cell_type": "code",
   "execution_count": 7,
   "id": "7fdea627",
   "metadata": {},
   "outputs": [
    {
     "data": {
      "text/plain": [
       "<AxesSubplot:xlabel='Score', ylabel='POS Sum'>"
      ]
     },
     "execution_count": 7,
     "metadata": {},
     "output_type": "execute_result"
    },
    {
     "data": {
      "image/png": "[encoded data removed]",
      "text/plain": [
       "<Figure size 432x288 with 1 Axes>"
      ]
     },
     "metadata": {},
     "output_type": "display_data"
    }
   ],
   "source": [
    "sns.barplot(x=\"Score\",y='POS Sum',hue='Score',data=df,palette=\"rocket\")"
   ]
  },
  {
   "cell_type": "markdown",
   "id": "9697b2d6",
   "metadata": {},
   "source": [
    "# SVM"
   ]
  },
  {
   "cell_type": "code",
   "execution_count": 8,
   "id": "27f8b055",
   "metadata": {},
   "outputs": [
    {
     "data": {
      "text/plain": [
       "SVC(probability=True)"
      ]
     },
     "execution_count": 8,
     "metadata": {},
     "output_type": "execute_result"
    }
   ],
   "source": [
    "from sklearn import svm\n",
    "\n",
    "SVM = svm.SVC(probability=True)\n",
    "\n",
    "SVM.fit(X_train, y_train)"
   ]
  },
  {
   "cell_type": "code",
   "execution_count": 9,
   "id": "d09c6596",
   "metadata": {},
   "outputs": [],
   "source": [
    "poly_pred = SVM.predict(X_test)"
   ]
  },
  {
   "cell_type": "code",
   "execution_count": 10,
   "id": "6033a015",
   "metadata": {
    "scrolled": true
   },
   "outputs": [
    {
     "name": "stdout",
     "output_type": "stream",
     "text": [
      "Accuracy (Polynomial Kernel):  92.54\n"
     ]
    }
   ],
   "source": [
    "from sklearn.metrics import accuracy_score\n",
    "\n",
    "poly_accuracy = accuracy_score(y_test, poly_pred)\n",
    "print('Accuracy (Polynomial Kernel): ', \"%.2f\" % (poly_accuracy*100))"
   ]
  },
  {
   "cell_type": "markdown",
   "id": "c5d4ee97",
   "metadata": {},
   "source": [
    "# KNN"
   ]
  },
  {
   "cell_type": "code",
   "execution_count": 11,
   "id": "8f656ac8",
   "metadata": {
    "scrolled": true
   },
   "outputs": [
    {
     "name": "stdout",
     "output_type": "stream",
     "text": [
      "KNN Accuracy: 92.67\n"
     ]
    }
   ],
   "source": [
    "from sklearn.neighbors import KNeighborsClassifier\n",
    "from sklearn.metrics import accuracy_score\n",
    "\n",
    "KNN = KNeighborsClassifier(n_neighbors=13)\n",
    "KNN.fit(X_train,y_train)\n",
    "KNN_pred = KNN.predict(X_test)\n",
    "\n",
    "KNN_accuracy = accuracy_score(y_test,KNN_pred)\n",
    "print(\"KNN Accuracy:\", \"%.2f\" % (KNN_accuracy*100))"
   ]
  },
  {
   "cell_type": "markdown",
   "id": "4f52aaad",
   "metadata": {},
   "source": [
    "# RFC"
   ]
  },
  {
   "cell_type": "code",
   "execution_count": 12,
   "id": "e523fcd4",
   "metadata": {
    "scrolled": true
   },
   "outputs": [
    {
     "name": "stdout",
     "output_type": "stream",
     "text": [
      "RFC Accuracy: 93.76\n"
     ]
    }
   ],
   "source": [
    "from sklearn.ensemble import RandomForestClassifier\n",
    "RFC = RandomForestClassifier(n_estimators=11,random_state =4)\n",
    "RFC.fit(X_train, y_train)\n",
    "RFC_pred = RFC.predict(X_test)\n",
    "\n",
    "RFC_accuracy = accuracy_score(y_test,RFC_pred)\n",
    "print(\"RFC Accuracy:\", \"%.2f\" % (RFC_accuracy*100))"
   ]
  },
  {
   "cell_type": "markdown",
   "id": "e812ca17",
   "metadata": {},
   "source": [
    "# XG BOOST"
   ]
  },
  {
   "cell_type": "code",
   "execution_count": 28,
   "id": "d7073ece",
   "metadata": {},
   "outputs": [
    {
     "name": "stdout",
     "output_type": "stream",
     "text": [
      "XGB Accuracy: 93.62\n"
     ]
    }
   ],
   "source": [
    "from xgboost import XGBClassifier\n",
    "\n",
    "import warnings\n",
    "warnings.filterwarnings('ignore')\n",
    "\n",
    "XGB = XGBClassifier(eval_metric='mlogloss')\n",
    "XGB.fit(X_train, y_train)\n",
    "\n",
    "XGB_pred = XGB.predict(X_test)\n",
    "\n",
    "XGB_accuracy = accuracy_score(y_test,XGB_pred)\n",
    "print(\"XGB Accuracy:\", \"%.2f\" % (XGB_accuracy*100))"
   ]
  },
  {
   "cell_type": "markdown",
   "id": "72541b5f",
   "metadata": {},
   "source": [
    "# LogisticRegression"
   ]
  },
  {
   "cell_type": "code",
   "execution_count": 29,
   "id": "3abe6714",
   "metadata": {},
   "outputs": [
    {
     "name": "stdout",
     "output_type": "stream",
     "text": [
      "LogisticRegression Accuracy: 91.86\n"
     ]
    }
   ],
   "source": [
    "from sklearn.linear_model import LogisticRegression\n",
    "\n",
    "LogisticRegression = LogisticRegression(solver='lbfgs',max_iter=9999999999999999999999999999999999999999999999999999999999999)\n",
    "LogisticRegression.fit(X_train, y_train)\n",
    "\n",
    "LogisticRegression_pred = LogisticRegression.predict(X_test)\n",
    "\n",
    "LogisticRegression_accuracy = accuracy_score(y_test,LogisticRegression_pred)\n",
    "print(\"LogisticRegression Accuracy:\", \"%.2f\" % (LogisticRegression_accuracy*100))"
   ]
  },
  {
   "cell_type": "markdown",
   "id": "32009d59",
   "metadata": {},
   "source": [
    "# Stack"
   ]
  },
  {
   "cell_type": "code",
   "execution_count": 30,
   "id": "bb2706de",
   "metadata": {
    "scrolled": false
   },
   "outputs": [
    {
     "name": "stdout",
     "output_type": "stream",
     "text": [
      "Stack Test Accuracy: 93.08\n"
     ]
    }
   ],
   "source": [
    "from sklearn.ensemble import StackingClassifier\n",
    "from sklearn.ensemble import VotingClassifier\n",
    "\n",
    "\n",
    "estimator_list = [\n",
    "    ('rfc',RFC),\n",
    "    ('knn',KNN),\n",
    "    ('svm',SVM),\n",
    "    ('LR',LogisticRegression),\n",
    "    ('XGB',XGB)\n",
    "]\n",
    "\n",
    "# Build stack model\n",
    "stack_model = VotingClassifier(\n",
    "    estimators=estimator_list,voting='hard'\n",
    ")\n",
    "\n",
    "# Train stacked model\n",
    "stack_model.fit(X_train, y_train)\n",
    "\n",
    "# Make predictions\n",
    "stack_pred = stack_model.predict(X_test)\n",
    "\n",
    "stack_accuracy = accuracy_score(y_test,stack_pred)\n",
    "print(\"Stack Test Accuracy:\", \"%.2f\" % (stack_accuracy*100))"
   ]
  },
  {
   "cell_type": "code",
   "execution_count": 31,
   "id": "7d58f481",
   "metadata": {},
   "outputs": [
    {
     "data": {
      "text/plain": [
       "<AxesSubplot:>"
      ]
     },
     "execution_count": 31,
     "metadata": {},
     "output_type": "execute_result"
    },
    {
     "data": {
      "image/png": "[encoded data removed]",
      "text/plain": [
       "<Figure size 432x288 with 2 Axes>"
      ]
     },
     "metadata": {},
     "output_type": "display_data"
    }
   ],
   "source": [
    "\n",
    "from sklearn.metrics import confusion_matrix, classification_report\n",
    "import seaborn as sns\n",
    "\n",
    "cm = confusion_matrix(y_test, stack_pred)\n",
    "\n",
    "sns.heatmap(cm,annot=True)"
   ]
  },
  {
   "cell_type": "code",
   "execution_count": 32,
   "id": "af703d41",
   "metadata": {},
   "outputs": [
    {
     "name": "stdout",
     "output_type": "stream",
     "text": [
      "              precision    recall  f1-score   support\n",
      "\n",
      "           1       1.00      0.94      0.97        50\n",
      "           2       0.97      0.97      0.97       146\n",
      "           3       0.92      0.92      0.92       212\n",
      "           4       0.93      0.92      0.92       281\n",
      "           5       0.84      0.90      0.87        48\n",
      "\n",
      "    accuracy                           0.93       737\n",
      "   macro avg       0.93      0.93      0.93       737\n",
      "weighted avg       0.93      0.93      0.93       737\n",
      "\n"
     ]
    }
   ],
   "source": [
    "print(classification_report(y_test, stack_pred))"
   ]
  },
  {
   "cell_type": "code",
   "execution_count": 33,
   "id": "7104508c",
   "metadata": {},
   "outputs": [],
   "source": [
    "import pickle\n",
    "\n",
    "pickle.dump(stack_model, open(\"Model/Stack_model.sav\", 'wb'))"
   ]
  },
  {
   "cell_type": "markdown",
   "id": "9c4ca6e2",
   "metadata": {},
   "source": [
    "# Neural network"
   ]
  },
  {
   "cell_type": "code",
   "execution_count": 19,
   "id": "1cbff338",
   "metadata": {},
   "outputs": [
    {
     "name": "stdout",
     "output_type": "stream",
     "text": [
      "Epoch 1/100\n",
      "74/74 [==============================] - 3s 35ms/step - loss: 6685.6306 - accuracy: 0.3374 - val_loss: 1.6421 - val_accuracy: 0.3525\n",
      "Epoch 2/100\n",
      "74/74 [==============================] - 0s 3ms/step - loss: 1.6285 - accuracy: 0.3495 - val_loss: 1.6131 - val_accuracy: 0.3525\n",
      "Epoch 3/100\n",
      "74/74 [==============================] - 0s 3ms/step - loss: 1.5845 - accuracy: 0.3705 - val_loss: 1.5957 - val_accuracy: 0.3525\n",
      "Epoch 4/100\n",
      "74/74 [==============================] - 0s 3ms/step - loss: 1.5850 - accuracy: 0.3779 - val_loss: 1.5758 - val_accuracy: 0.3525\n",
      "Epoch 5/100\n",
      "74/74 [==============================] - 0s 3ms/step - loss: 1.5731 - accuracy: 0.3441 - val_loss: 1.5611 - val_accuracy: 0.3525\n",
      "Epoch 6/100\n",
      "74/74 [==============================] - 0s 3ms/step - loss: 1.5470 - accuracy: 0.3762 - val_loss: 1.5585 - val_accuracy: 0.3525\n",
      "Epoch 7/100\n",
      "74/74 [==============================] - 0s 3ms/step - loss: 1.5602 - accuracy: 0.3672 - val_loss: 1.5412 - val_accuracy: 0.3525\n",
      "Epoch 8/100\n",
      "74/74 [==============================] - 0s 4ms/step - loss: 1.5506 - accuracy: 0.3586 - val_loss: 1.5337 - val_accuracy: 0.3525\n",
      "Epoch 9/100\n",
      "74/74 [==============================] - 0s 4ms/step - loss: 1.5396 - accuracy: 0.3609 - val_loss: 1.5257 - val_accuracy: 0.3525\n",
      "Epoch 10/100\n",
      "74/74 [==============================] - 0s 4ms/step - loss: 1.5382 - accuracy: 0.3484 - val_loss: 1.5173 - val_accuracy: 0.3525\n",
      "Epoch 11/100\n",
      "74/74 [==============================] - 0s 3ms/step - loss: 1.5143 - accuracy: 0.3641 - val_loss: 1.5245 - val_accuracy: 0.3525\n",
      "Epoch 12/100\n",
      "74/74 [==============================] - 0s 5ms/step - loss: 1.4895 - accuracy: 0.3798 - val_loss: 1.5060 - val_accuracy: 0.3525\n",
      "Epoch 13/100\n",
      "74/74 [==============================] - 0s 4ms/step - loss: 1.4899 - accuracy: 0.3815 - val_loss: 1.5033 - val_accuracy: 0.3525\n",
      "Epoch 14/100\n",
      "74/74 [==============================] - 0s 3ms/step - loss: 1.5086 - accuracy: 0.3570 - val_loss: 1.4979 - val_accuracy: 0.3525\n",
      "Epoch 15/100\n",
      "74/74 [==============================] - 0s 7ms/step - loss: 1.4948 - accuracy: 0.3631 - val_loss: 1.4949 - val_accuracy: 0.3525\n",
      "Epoch 16/100\n",
      "74/74 [==============================] - 0s 5ms/step - loss: 1.4779 - accuracy: 0.3820 - val_loss: 1.4940 - val_accuracy: 0.3525\n",
      "Epoch 17/100\n",
      "74/74 [==============================] - 0s 5ms/step - loss: 1.4908 - accuracy: 0.3544 - val_loss: 1.4902 - val_accuracy: 0.3525\n",
      "Epoch 18/100\n",
      "74/74 [==============================] - 0s 5ms/step - loss: 1.4842 - accuracy: 0.3623 - val_loss: 1.4861 - val_accuracy: 0.3525\n",
      "Epoch 19/100\n",
      "74/74 [==============================] - 0s 5ms/step - loss: 1.4748 - accuracy: 0.3863 - val_loss: 1.4953 - val_accuracy: 0.3525\n",
      "Epoch 20/100\n",
      "74/74 [==============================] - 0s 4ms/step - loss: 1.4987 - accuracy: 0.3728 - val_loss: 1.4835 - val_accuracy: 0.3525\n",
      "Epoch 21/100\n",
      "74/74 [==============================] - 0s 4ms/step - loss: 1.4962 - accuracy: 0.3465 - val_loss: 1.4860 - val_accuracy: 0.3525\n",
      "Epoch 22/100\n",
      "74/74 [==============================] - 0s 4ms/step - loss: 1.4781 - accuracy: 0.3722 - val_loss: 1.4932 - val_accuracy: 0.3525\n",
      "Epoch 23/100\n",
      "74/74 [==============================] - ETA: 0s - loss: 1.4716 - accuracy: 0.36 - 0s 3ms/step - loss: 1.4736 - accuracy: 0.3620 - val_loss: 1.4828 - val_accuracy: 0.3525\n",
      "Epoch 24/100\n",
      "74/74 [==============================] - 0s 3ms/step - loss: 1.4683 - accuracy: 0.3753 - val_loss: 1.4789 - val_accuracy: 0.3525\n",
      "Epoch 25/100\n",
      "74/74 [==============================] - 0s 3ms/step - loss: 1.4983 - accuracy: 0.3572 - val_loss: 1.4767 - val_accuracy: 0.3525\n",
      "Epoch 26/100\n",
      "74/74 [==============================] - 0s 4ms/step - loss: 1.4701 - accuracy: 0.3643 - val_loss: 1.4884 - val_accuracy: 0.3525\n",
      "Epoch 27/100\n",
      "74/74 [==============================] - 0s 3ms/step - loss: 1.4729 - accuracy: 0.3730 - val_loss: 1.4720 - val_accuracy: 0.3525\n",
      "Epoch 28/100\n",
      "74/74 [==============================] - ETA: 0s - loss: 1.4803 - accuracy: 0.35 - 0s 3ms/step - loss: 1.4787 - accuracy: 0.3599 - val_loss: 1.4736 - val_accuracy: 0.3525\n",
      "Epoch 29/100\n",
      "74/74 [==============================] - 0s 4ms/step - loss: 1.4650 - accuracy: 0.3775 - val_loss: 1.4690 - val_accuracy: 0.3525\n",
      "Epoch 30/100\n",
      "74/74 [==============================] - 0s 4ms/step - loss: 1.4525 - accuracy: 0.3645 - val_loss: 1.4713 - val_accuracy: 0.3525\n",
      "Epoch 31/100\n",
      "74/74 [==============================] - 0s 5ms/step - loss: 1.4509 - accuracy: 0.3723 - val_loss: 1.4729 - val_accuracy: 0.3525\n",
      "Epoch 32/100\n",
      "74/74 [==============================] - 0s 4ms/step - loss: 1.4620 - accuracy: 0.3602 - val_loss: 1.4668 - val_accuracy: 0.3525\n",
      "Epoch 33/100\n",
      "74/74 [==============================] - 0s 3ms/step - loss: 1.4789 - accuracy: 0.3537 - val_loss: 1.4655 - val_accuracy: 0.3525\n",
      "Epoch 34/100\n",
      "74/74 [==============================] - 0s 3ms/step - loss: 1.4700 - accuracy: 0.3648 - val_loss: 1.4651 - val_accuracy: 0.3525\n",
      "Epoch 35/100\n",
      "74/74 [==============================] - 0s 3ms/step - loss: 1.4563 - accuracy: 0.3716 - val_loss: 1.4839 - val_accuracy: 0.3525\n",
      "Epoch 36/100\n",
      "74/74 [==============================] - 0s 3ms/step - loss: 1.4532 - accuracy: 0.3776 - val_loss: 1.4658 - val_accuracy: 0.3525\n",
      "Epoch 37/100\n",
      "74/74 [==============================] - 0s 4ms/step - loss: 1.4612 - accuracy: 0.3849 - val_loss: 1.4630 - val_accuracy: 0.3525\n",
      "Epoch 38/100\n",
      "74/74 [==============================] - 0s 5ms/step - loss: 1.4613 - accuracy: 0.3646 - val_loss: 1.4848 - val_accuracy: 0.3525\n",
      "Epoch 39/100\n",
      "74/74 [==============================] - 0s 4ms/step - loss: 1.4469 - accuracy: 0.3792 - val_loss: 1.4607 - val_accuracy: 0.3525\n",
      "Epoch 40/100\n",
      "74/74 [==============================] - 0s 4ms/step - loss: 1.4773 - accuracy: 0.3425 - val_loss: 1.4607 - val_accuracy: 0.3525\n",
      "Epoch 41/100\n",
      "74/74 [==============================] - 0s 5ms/step - loss: 1.4810 - accuracy: 0.3632 - val_loss: 1.4650 - val_accuracy: 0.3525\n",
      "Epoch 42/100\n",
      "74/74 [==============================] - 0s 6ms/step - loss: 1.4735 - accuracy: 0.3542 - val_loss: 1.4626 - val_accuracy: 0.3525\n",
      "Epoch 43/100\n",
      "74/74 [==============================] - 0s 4ms/step - loss: 1.4533 - accuracy: 0.3773 - val_loss: 1.4642 - val_accuracy: 0.3525\n",
      "Epoch 44/100\n",
      "74/74 [==============================] - 0s 4ms/step - loss: 1.4572 - accuracy: 0.3688 - val_loss: 1.4619 - val_accuracy: 0.3525\n",
      "Epoch 45/100\n",
      "74/74 [==============================] - 0s 4ms/step - loss: 1.4635 - accuracy: 0.3562 - val_loss: 1.4577 - val_accuracy: 0.3525\n",
      "Epoch 46/100\n",
      "74/74 [==============================] - 0s 3ms/step - loss: 1.4589 - accuracy: 0.3525 - val_loss: 1.4652 - val_accuracy: 0.3525\n",
      "Epoch 47/100\n",
      "74/74 [==============================] - 0s 3ms/step - loss: 1.4526 - accuracy: 0.3666 - val_loss: 1.4571 - val_accuracy: 0.3525\n",
      "Epoch 48/100\n",
      "74/74 [==============================] - 0s 6ms/step - loss: 1.4630 - accuracy: 0.3648 - val_loss: 1.4571 - val_accuracy: 0.3525\n",
      "Epoch 49/100\n",
      "74/74 [==============================] - 0s 5ms/step - loss: 1.4723 - accuracy: 0.3585 - val_loss: 1.4611 - val_accuracy: 0.3525\n",
      "Epoch 50/100\n",
      "74/74 [==============================] - 0s 4ms/step - loss: 1.4764 - accuracy: 0.3426 - val_loss: 1.4674 - val_accuracy: 0.3525\n",
      "Epoch 51/100\n",
      "74/74 [==============================] - 0s 3ms/step - loss: 1.4763 - accuracy: 0.3472 - val_loss: 1.4557 - val_accuracy: 0.3525\n",
      "Epoch 52/100\n",
      "74/74 [==============================] - 0s 4ms/step - loss: 1.4707 - accuracy: 0.3616 - val_loss: 1.4644 - val_accuracy: 0.3525\n",
      "Epoch 53/100\n",
      "74/74 [==============================] - 0s 4ms/step - loss: 1.4574 - accuracy: 0.3598 - val_loss: 1.4643 - val_accuracy: 0.3525\n",
      "Epoch 54/100\n",
      "74/74 [==============================] - 0s 3ms/step - loss: 1.4475 - accuracy: 0.3797 - val_loss: 1.4572 - val_accuracy: 0.3525\n",
      "Epoch 55/100\n",
      "74/74 [==============================] - 0s 3ms/step - loss: 1.4551 - accuracy: 0.3689 - val_loss: 1.4538 - val_accuracy: 0.3525\n",
      "Epoch 56/100\n",
      "74/74 [==============================] - 0s 2ms/step - loss: 1.4752 - accuracy: 0.3612 - val_loss: 1.4618 - val_accuracy: 0.3525\n",
      "Epoch 57/100\n",
      "74/74 [==============================] - 0s 3ms/step - loss: 1.4612 - accuracy: 0.3668 - val_loss: 1.4533 - val_accuracy: 0.3525\n",
      "Epoch 58/100\n",
      "74/74 [==============================] - 0s 2ms/step - loss: 1.4275 - accuracy: 0.3828 - val_loss: 1.4530 - val_accuracy: 0.3525\n",
      "Epoch 59/100\n",
      "74/74 [==============================] - 0s 2ms/step - loss: 1.4460 - accuracy: 0.3633 - val_loss: 1.4546 - val_accuracy: 0.3525\n",
      "Epoch 60/100\n",
      "74/74 [==============================] - 0s 2ms/step - loss: 1.4518 - accuracy: 0.3714 - val_loss: 1.4523 - val_accuracy: 0.3525\n",
      "Epoch 61/100\n",
      "74/74 [==============================] - 0s 2ms/step - loss: 1.4594 - accuracy: 0.3667 - val_loss: 1.4522 - val_accuracy: 0.3525\n",
      "Epoch 62/100\n",
      "74/74 [==============================] - 0s 2ms/step - loss: 1.4517 - accuracy: 0.3639 - val_loss: 1.4520 - val_accuracy: 0.3525\n",
      "Epoch 63/100\n",
      "74/74 [==============================] - 0s 2ms/step - loss: 1.4352 - accuracy: 0.3756 - val_loss: 1.4529 - val_accuracy: 0.3525\n",
      "Epoch 64/100\n",
      "74/74 [==============================] - 0s 2ms/step - loss: 1.4436 - accuracy: 0.3798 - val_loss: 1.4612 - val_accuracy: 0.3525\n",
      "Epoch 65/100\n",
      "74/74 [==============================] - 0s 2ms/step - loss: 1.4662 - accuracy: 0.3545 - val_loss: 1.4522 - val_accuracy: 0.3525\n",
      "Epoch 66/100\n",
      "74/74 [==============================] - 0s 2ms/step - loss: 1.4581 - accuracy: 0.3641 - val_loss: 1.4524 - val_accuracy: 0.3525\n",
      "Epoch 67/100\n",
      "74/74 [==============================] - 0s 2ms/step - loss: 1.4553 - accuracy: 0.3640 - val_loss: 1.4602 - val_accuracy: 0.3525\n",
      "Epoch 68/100\n",
      "74/74 [==============================] - 0s 2ms/step - loss: 1.4581 - accuracy: 0.3594 - val_loss: 1.4508 - val_accuracy: 0.3525\n",
      "Epoch 69/100\n",
      "74/74 [==============================] - 0s 2ms/step - loss: 1.4676 - accuracy: 0.3541 - val_loss: 1.4546 - val_accuracy: 0.3525\n",
      "Epoch 70/100\n",
      "74/74 [==============================] - 0s 2ms/step - loss: 1.4523 - accuracy: 0.3632 - val_loss: 1.4501 - val_accuracy: 0.3525\n",
      "Epoch 71/100\n",
      "74/74 [==============================] - 0s 2ms/step - loss: 1.4473 - accuracy: 0.3742 - val_loss: 1.4514 - val_accuracy: 0.3525\n",
      "Epoch 72/100\n",
      "74/74 [==============================] - 0s 2ms/step - loss: 1.4531 - accuracy: 0.3439 - val_loss: 1.4602 - val_accuracy: 0.3525\n",
      "Epoch 73/100\n",
      "74/74 [==============================] - 0s 2ms/step - loss: 1.4501 - accuracy: 0.3658 - val_loss: 1.4502 - val_accuracy: 0.3525\n",
      "Epoch 74/100\n",
      "74/74 [==============================] - 0s 2ms/step - loss: 1.4487 - accuracy: 0.3774 - val_loss: 1.4493 - val_accuracy: 0.3525\n",
      "Epoch 75/100\n",
      "74/74 [==============================] - 0s 2ms/step - loss: 1.4419 - accuracy: 0.3658 - val_loss: 1.4560 - val_accuracy: 0.3525\n",
      "Epoch 76/100\n",
      "74/74 [==============================] - 0s 2ms/step - loss: 1.4823 - accuracy: 0.3613 - val_loss: 1.4534 - val_accuracy: 0.3525\n",
      "Epoch 77/100\n",
      "74/74 [==============================] - 0s 2ms/step - loss: 1.4563 - accuracy: 0.3656 - val_loss: 1.4493 - val_accuracy: 0.3525\n",
      "Epoch 78/100\n",
      "74/74 [==============================] - 0s 2ms/step - loss: 1.4540 - accuracy: 0.3472 - val_loss: 1.4507 - val_accuracy: 0.3525\n",
      "Epoch 79/100\n",
      "74/74 [==============================] - 0s 2ms/step - loss: 1.4707 - accuracy: 0.3579 - val_loss: 1.4505 - val_accuracy: 0.3525\n",
      "Epoch 80/100\n",
      "74/74 [==============================] - 0s 2ms/step - loss: 1.4481 - accuracy: 0.3608 - val_loss: 1.4493 - val_accuracy: 0.3525\n",
      "Epoch 81/100\n",
      "74/74 [==============================] - 0s 2ms/step - loss: 1.4384 - accuracy: 0.3714 - val_loss: 1.4487 - val_accuracy: 0.3525\n",
      "Epoch 82/100\n",
      "74/74 [==============================] - 0s 2ms/step - loss: 1.4472 - accuracy: 0.3714 - val_loss: 1.4491 - val_accuracy: 0.3525\n",
      "Epoch 83/100\n",
      "74/74 [==============================] - 0s 2ms/step - loss: 1.4519 - accuracy: 0.3720 - val_loss: 1.4501 - val_accuracy: 0.3525\n",
      "Epoch 84/100\n",
      "74/74 [==============================] - 0s 2ms/step - loss: 1.4543 - accuracy: 0.3642 - val_loss: 1.4480 - val_accuracy: 0.3525\n",
      "Epoch 85/100\n",
      "74/74 [==============================] - 0s 2ms/step - loss: 1.4447 - accuracy: 0.3620 - val_loss: 1.4490 - val_accuracy: 0.3525\n",
      "Epoch 86/100\n",
      "74/74 [==============================] - 0s 2ms/step - loss: 1.4487 - accuracy: 0.3571 - val_loss: 1.4571 - val_accuracy: 0.3525\n",
      "Epoch 87/100\n",
      "74/74 [==============================] - 0s 2ms/step - loss: 1.4400 - accuracy: 0.3675 - val_loss: 1.4475 - val_accuracy: 0.3525\n",
      "Epoch 88/100\n",
      "74/74 [==============================] - 0s 2ms/step - loss: 1.4653 - accuracy: 0.3586 - val_loss: 1.4478 - val_accuracy: 0.3525\n",
      "Epoch 89/100\n",
      "74/74 [==============================] - 0s 2ms/step - loss: 1.4473 - accuracy: 0.3682 - val_loss: 1.4498 - val_accuracy: 0.3525\n",
      "Epoch 90/100\n",
      "74/74 [==============================] - 0s 2ms/step - loss: 1.4620 - accuracy: 0.3666 - val_loss: 1.4554 - val_accuracy: 0.3525\n",
      "Epoch 91/100\n",
      "74/74 [==============================] - 0s 2ms/step - loss: 1.4693 - accuracy: 0.3644 - val_loss: 1.4508 - val_accuracy: 0.3525\n",
      "Epoch 92/100\n",
      "74/74 [==============================] - 0s 2ms/step - loss: 1.4667 - accuracy: 0.3678 - val_loss: 1.4482 - val_accuracy: 0.3525\n",
      "Epoch 93/100\n",
      "74/74 [==============================] - 0s 2ms/step - loss: 1.4522 - accuracy: 0.3438 - val_loss: 1.4469 - val_accuracy: 0.3525\n",
      "Epoch 94/100\n",
      "74/74 [==============================] - 0s 2ms/step - loss: 1.4482 - accuracy: 0.3516 - val_loss: 1.4510 - val_accuracy: 0.3525\n",
      "Epoch 95/100\n",
      "74/74 [==============================] - 0s 2ms/step - loss: 1.4437 - accuracy: 0.3669 - val_loss: 1.4486 - val_accuracy: 0.3525\n",
      "Epoch 96/100\n",
      "74/74 [==============================] - 0s 3ms/step - loss: 1.4570 - accuracy: 0.3614 - val_loss: 1.4462 - val_accuracy: 0.3525\n",
      "Epoch 97/100\n",
      "74/74 [==============================] - 0s 2ms/step - loss: 1.4602 - accuracy: 0.3646 - val_loss: 1.4467 - val_accuracy: 0.3525\n",
      "Epoch 98/100\n",
      "74/74 [==============================] - 0s 2ms/step - loss: 1.4461 - accuracy: 0.3711 - val_loss: 1.4540 - val_accuracy: 0.3525\n",
      "Epoch 99/100\n",
      "74/74 [==============================] - 0s 2ms/step - loss: 1.4496 - accuracy: 0.3621 - val_loss: 1.4484 - val_accuracy: 0.3525\n",
      "Epoch 100/100\n",
      "74/74 [==============================] - 0s 2ms/step - loss: 1.4489 - accuracy: 0.3570 - val_loss: 1.4510 - val_accuracy: 0.3525\n"
     ]
    },
    {
     "data": {
      "text/plain": [
       "<tensorflow.python.keras.callbacks.History at 0x111b0820370>"
      ]
     },
     "execution_count": 19,
     "metadata": {},
     "output_type": "execute_result"
    }
   ],
   "source": [
    "from keras.models import Sequential\n",
    "from keras.layers import Dense\n",
    "\n",
    "model = Sequential()\n",
    "\n",
    "model.add(Dense(64,input_dim = 4, activation='relu'))\n",
    "model.add(Dense(124,activation='relu'))\n",
    "model.add(Dense(6,activation='softmax'))\n",
    "\n",
    "model.compile(loss='sparse_categorical_crossentropy',optimizer='sgd',metrics=['accuracy'])\n",
    "model.fit(X_train,y_train,epochs=100,validation_split=0.2)"
   ]
  },
  {
   "cell_type": "code",
   "execution_count": null,
   "id": "a64a7668",
   "metadata": {},
   "outputs": [],
   "source": []
  },
  {
   "cell_type": "code",
   "execution_count": null,
   "id": "c50384ea",
   "metadata": {},
   "outputs": [],
   "source": []
  }
 ],
 "metadata": {
  "kernelspec": {
   "display_name": "Python 3",
   "language": "python",
   "name": "python3"
  },
  "language_info": {
   "codemirror_mode": {
    "name": "ipython",
    "version": 3
   },
   "file_extension": ".py",
   "mimetype": "text/x-python",
   "name": "python",
   "nbconvert_exporter": "python",
   "pygments_lexer": "ipython3",
   "version": "3.8.6"
  }
 },
 "nbformat": 4,
 "nbformat_minor": 5
}
