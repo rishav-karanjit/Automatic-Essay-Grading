{
 "cells": [
  {
   "cell_type": "markdown",
   "id": "9697b2d6",
   "metadata": {},
   "source": [
    "# SVM"
   ]
  },
  {
   "cell_type": "code",
   "execution_count": 2,
   "id": "bff06b8e",
   "metadata": {
    "scrolled": true
   },
   "outputs": [],
   "source": [
    "import pandas as pd\n",
    "from sklearn.model_selection import train_test_split\n",
    "\n",
    "df = pd.read_csv(\"Dataset/Dataset.csv\")\n",
    "\n",
    "X = df.iloc[:,0:8]\n",
    "y = df.iloc[:,9]\n",
    "X_train, X_test, y_train, y_test = train_test_split(X, y, train_size=0.80, test_size=0.20, random_state=101)"
   ]
  },
  {
   "cell_type": "code",
   "execution_count": 44,
   "id": "27f8b055",
   "metadata": {},
   "outputs": [],
   "source": [
    "from sklearn import svm\n",
    "\n",
    "poly = svm.SVC().fit(X_train, y_train)"
   ]
  },
  {
   "cell_type": "code",
   "execution_count": 45,
   "id": "d09c6596",
   "metadata": {},
   "outputs": [],
   "source": [
    "poly_pred = poly.predict(X_test)"
   ]
  },
  {
   "cell_type": "code",
   "execution_count": 46,
   "id": "6033a015",
   "metadata": {
    "scrolled": true
   },
   "outputs": [
    {
     "name": "stdout",
     "output_type": "stream",
     "text": [
      "Accuracy (Polynomial Kernel):  85.71\n"
     ]
    }
   ],
   "source": [
    "from sklearn.metrics import accuracy_score\n",
    "from sklearn.metrics import f1_score\n",
    "\n",
    "poly_accuracy = accuracy_score(y_test, poly_pred)\n",
    "poly_f1 = f1_score(y_test, poly_pred, average='weighted')\n",
    "print('Accuracy (Polynomial Kernel): ', \"%.2f\" % (poly_accuracy*100))"
   ]
  },
  {
   "cell_type": "code",
   "execution_count": 10,
   "id": "57da4dd5",
   "metadata": {},
   "outputs": [
    {
     "name": "stdout",
     "output_type": "stream",
     "text": [
      "[4]\n"
     ]
    }
   ],
   "source": [
    "pred = poly.predict([[2215,382,4,54,114,37,82,29]])\n",
    "print(pred)"
   ]
  },
  {
   "cell_type": "markdown",
   "id": "9c4ca6e2",
   "metadata": {},
   "source": [
    "# Neural network"
   ]
  },
  {
   "cell_type": "code",
   "execution_count": 38,
   "id": "19036444",
   "metadata": {},
   "outputs": [
    {
     "data": {
      "text/plain": [
       "(1, 8)"
      ]
     },
     "execution_count": 38,
     "metadata": {},
     "output_type": "execute_result"
    }
   ],
   "source": [
    "x = X_train.values.reshape(len(X_train), 1, X_train.shape[1])\n",
    "x.shape[1:]"
   ]
  },
  {
   "cell_type": "code",
   "execution_count": 40,
   "id": "1cbff338",
   "metadata": {},
   "outputs": [
    {
     "name": "stdout",
     "output_type": "stream",
     "text": [
      "Epoch 1/100\n",
      "36/36 [==============================] - 11s 53ms/step - loss: 6.7597 - accuracy: 0.0025 - val_loss: 0.4269 - val_accuracy: 0.0175\n",
      "Epoch 2/100\n",
      "36/36 [==============================] - 1s 24ms/step - loss: 0.8358 - accuracy: 0.0048 - val_loss: 0.4643 - val_accuracy: 0.0175\n",
      "Epoch 3/100\n",
      "36/36 [==============================] - 1s 26ms/step - loss: 0.7671 - accuracy: 0.0058 - val_loss: 0.3508 - val_accuracy: 0.0175\n",
      "Epoch 4/100\n",
      "36/36 [==============================] - 1s 24ms/step - loss: 0.6091 - accuracy: 0.0042 - val_loss: 0.3590 - val_accuracy: 0.0175\n",
      "Epoch 5/100\n",
      "36/36 [==============================] - 1s 24ms/step - loss: 0.5371 - accuracy: 9.1509e-04 - val_loss: 0.3157 - val_accuracy: 0.0175\n",
      "Epoch 6/100\n",
      "36/36 [==============================] - 1s 23ms/step - loss: 0.5692 - accuracy: 0.0033 - val_loss: 0.2965 - val_accuracy: 0.0175\n",
      "Epoch 7/100\n",
      "36/36 [==============================] - 1s 24ms/step - loss: 0.4951 - accuracy: 9.9962e-04 - val_loss: 0.4509 - val_accuracy: 0.0175\n",
      "Epoch 8/100\n",
      "36/36 [==============================] - 1s 24ms/step - loss: 0.5849 - accuracy: 0.0021 - val_loss: 0.2677 - val_accuracy: 0.0175\n",
      "Epoch 9/100\n",
      "36/36 [==============================] - 1s 24ms/step - loss: 0.5125 - accuracy: 0.0051 - val_loss: 0.3142 - val_accuracy: 0.0175\n",
      "Epoch 10/100\n",
      "36/36 [==============================] - 1s 23ms/step - loss: 0.5483 - accuracy: 0.0035 - val_loss: 0.3397 - val_accuracy: 0.0175\n",
      "Epoch 11/100\n",
      "36/36 [==============================] - 1s 23ms/step - loss: 0.5484 - accuracy: 0.0015 - val_loss: 0.3660 - val_accuracy: 0.0175\n",
      "Epoch 12/100\n",
      "36/36 [==============================] - 1s 23ms/step - loss: 0.5081 - accuracy: 0.0014 - val_loss: 0.2852 - val_accuracy: 0.0175\n",
      "Epoch 13/100\n",
      "36/36 [==============================] - 1s 23ms/step - loss: 0.5484 - accuracy: 0.0042 - val_loss: 0.2297 - val_accuracy: 0.0175\n",
      "Epoch 14/100\n",
      "36/36 [==============================] - 1s 23ms/step - loss: 0.5268 - accuracy: 0.0035 - val_loss: 0.6078 - val_accuracy: 0.0175\n",
      "Epoch 15/100\n",
      "36/36 [==============================] - 1s 23ms/step - loss: 0.5381 - accuracy: 0.0031 - val_loss: 0.3300 - val_accuracy: 0.0175\n",
      "Epoch 16/100\n",
      "36/36 [==============================] - 1s 24ms/step - loss: 0.5291 - accuracy: 0.0037 - val_loss: 0.2479 - val_accuracy: 0.0175\n",
      "Epoch 17/100\n",
      "36/36 [==============================] - 1s 25ms/step - loss: 0.4863 - accuracy: 0.0020 - val_loss: 0.2779 - val_accuracy: 0.0175\n",
      "Epoch 18/100\n",
      "36/36 [==============================] - 1s 25ms/step - loss: 0.4728 - accuracy: 0.0015 - val_loss: 0.3127 - val_accuracy: 0.0175\n",
      "Epoch 19/100\n",
      "36/36 [==============================] - 1s 24ms/step - loss: 0.4832 - accuracy: 0.0065 - val_loss: 0.4318 - val_accuracy: 0.0175\n",
      "Epoch 20/100\n",
      "36/36 [==============================] - 1s 23ms/step - loss: 0.4938 - accuracy: 0.0019 - val_loss: 0.2246 - val_accuracy: 0.0175\n",
      "Epoch 21/100\n",
      "36/36 [==============================] - 1s 24ms/step - loss: 0.5014 - accuracy: 0.0016 - val_loss: 0.2632 - val_accuracy: 0.0175\n",
      "Epoch 22/100\n",
      "36/36 [==============================] - 1s 27ms/step - loss: 0.5074 - accuracy: 0.0040 - val_loss: 0.2648 - val_accuracy: 0.0175\n",
      "Epoch 23/100\n",
      "36/36 [==============================] - 1s 24ms/step - loss: 0.5121 - accuracy: 0.0056 - val_loss: 0.1980 - val_accuracy: 0.0175\n",
      "Epoch 24/100\n",
      "36/36 [==============================] - 1s 27ms/step - loss: 0.4954 - accuracy: 0.0042 - val_loss: 0.4169 - val_accuracy: 0.0175\n",
      "Epoch 25/100\n",
      "36/36 [==============================] - 1s 24ms/step - loss: 0.5225 - accuracy: 0.0015 - val_loss: 0.3682 - val_accuracy: 0.0175\n",
      "Epoch 26/100\n",
      "36/36 [==============================] - 1s 24ms/step - loss: 0.5278 - accuracy: 0.0032 - val_loss: 0.2604 - val_accuracy: 0.0175\n",
      "Epoch 27/100\n",
      "36/36 [==============================] - 1s 27ms/step - loss: 0.4917 - accuracy: 8.9825e-04 - val_loss: 0.2144 - val_accuracy: 0.0175\n",
      "Epoch 28/100\n",
      "36/36 [==============================] - 1s 31ms/step - loss: 0.5463 - accuracy: 0.0027 - val_loss: 0.2914 - val_accuracy: 0.0175\n",
      "Epoch 29/100\n",
      "36/36 [==============================] - 1s 28ms/step - loss: 0.5085 - accuracy: 0.0048 - val_loss: 2.4163 - val_accuracy: 0.0175\n",
      "Epoch 30/100\n",
      "36/36 [==============================] - 1s 24ms/step - loss: 0.6186 - accuracy: 0.0035 - val_loss: 0.3414 - val_accuracy: 0.0175\n",
      "Epoch 31/100\n",
      "36/36 [==============================] - 1s 25ms/step - loss: 0.5322 - accuracy: 0.0010 - val_loss: 0.2679 - val_accuracy: 0.0175\n",
      "Epoch 32/100\n",
      "36/36 [==============================] - 1s 23ms/step - loss: 0.4802 - accuracy: 0.0025 - val_loss: 0.3338 - val_accuracy: 0.0175\n",
      "Epoch 33/100\n",
      "36/36 [==============================] - 1s 24ms/step - loss: 0.5570 - accuracy: 0.0033 - val_loss: 0.2651 - val_accuracy: 0.0175\n",
      "Epoch 34/100\n",
      "36/36 [==============================] - 1s 24ms/step - loss: 0.4947 - accuracy: 0.0034 - val_loss: 0.2041 - val_accuracy: 0.0175\n",
      "Epoch 35/100\n",
      "36/36 [==============================] - 1s 24ms/step - loss: 0.4834 - accuracy: 0.0021 - val_loss: 0.2234 - val_accuracy: 0.0175\n",
      "Epoch 36/100\n",
      "36/36 [==============================] - 1s 24ms/step - loss: 0.4957 - accuracy: 0.0020 - val_loss: 0.4213 - val_accuracy: 0.0175\n",
      "Epoch 37/100\n",
      "36/36 [==============================] - 1s 25ms/step - loss: 0.5117 - accuracy: 0.0020 - val_loss: 0.3028 - val_accuracy: 0.0175\n",
      "Epoch 38/100\n",
      "36/36 [==============================] - 1s 26ms/step - loss: 0.4631 - accuracy: 0.0030 - val_loss: 0.3274 - val_accuracy: 0.0175\n",
      "Epoch 39/100\n",
      "36/36 [==============================] - 1s 25ms/step - loss: 0.4219 - accuracy: 0.0011 - val_loss: 0.2766 - val_accuracy: 0.0175\n",
      "Epoch 40/100\n",
      "36/36 [==============================] - 1s 23ms/step - loss: 0.4297 - accuracy: 0.0018 - val_loss: 0.9152 - val_accuracy: 0.0175\n",
      "Epoch 41/100\n",
      "36/36 [==============================] - 1s 23ms/step - loss: 0.4945 - accuracy: 0.0023 - val_loss: 1.1775 - val_accuracy: 0.0175\n",
      "Epoch 42/100\n",
      "36/36 [==============================] - 1s 23ms/step - loss: 0.4227 - accuracy: 0.0020 - val_loss: 0.4034 - val_accuracy: 0.0175\n",
      "Epoch 43/100\n",
      "36/36 [==============================] - 1s 24ms/step - loss: 0.4941 - accuracy: 0.0019 - val_loss: 0.5691 - val_accuracy: 0.0175\n",
      "Epoch 44/100\n",
      "36/36 [==============================] - 1s 24ms/step - loss: 0.4252 - accuracy: 0.0040 - val_loss: 0.2467 - val_accuracy: 0.0175\n",
      "Epoch 45/100\n",
      "36/36 [==============================] - 1s 23ms/step - loss: 0.4516 - accuracy: 0.0037 - val_loss: 0.7270 - val_accuracy: 0.0175\n",
      "Epoch 46/100\n",
      "36/36 [==============================] - 1s 24ms/step - loss: 0.5053 - accuracy: 0.0021 - val_loss: 0.2698 - val_accuracy: 0.0175\n",
      "Epoch 47/100\n",
      "36/36 [==============================] - 1s 23ms/step - loss: 0.4592 - accuracy: 0.0011 - val_loss: 0.2264 - val_accuracy: 0.0175\n",
      "Epoch 48/100\n",
      "36/36 [==============================] - 1s 24ms/step - loss: 0.4347 - accuracy: 0.0064 - val_loss: 0.2331 - val_accuracy: 0.0175\n",
      "Epoch 49/100\n",
      "36/36 [==============================] - 1s 24ms/step - loss: 0.4645 - accuracy: 0.0022 - val_loss: 0.2994 - val_accuracy: 0.0175\n",
      "Epoch 50/100\n",
      "36/36 [==============================] - 1s 24ms/step - loss: 0.4240 - accuracy: 0.0034 - val_loss: 0.2019 - val_accuracy: 0.0175\n",
      "Epoch 51/100\n",
      "36/36 [==============================] - 1s 24ms/step - loss: 0.4459 - accuracy: 6.6671e-04 - val_loss: 0.2100 - val_accuracy: 0.0175\n",
      "Epoch 52/100\n",
      "36/36 [==============================] - 1s 24ms/step - loss: 0.4282 - accuracy: 5.6966e-04 - val_loss: 0.3526 - val_accuracy: 0.0175\n",
      "Epoch 53/100\n",
      "36/36 [==============================] - 1s 24ms/step - loss: 0.4314 - accuracy: 0.0012 - val_loss: 0.6732 - val_accuracy: 0.0175\n",
      "Epoch 54/100\n",
      "36/36 [==============================] - 1s 24ms/step - loss: 0.4256 - accuracy: 0.0025 - val_loss: 0.5113 - val_accuracy: 0.0175\n",
      "Epoch 55/100\n",
      "36/36 [==============================] - 1s 24ms/step - loss: 0.4612 - accuracy: 0.0019 - val_loss: 0.1939 - val_accuracy: 0.0175\n",
      "Epoch 56/100\n",
      "36/36 [==============================] - 1s 24ms/step - loss: 0.4148 - accuracy: 0.0024 - val_loss: 0.3065 - val_accuracy: 0.0175\n",
      "Epoch 57/100\n",
      "36/36 [==============================] - 1s 24ms/step - loss: 0.4453 - accuracy: 0.0042 - val_loss: 0.2901 - val_accuracy: 0.0175\n",
      "Epoch 58/100\n"
     ]
    },
    {
     "name": "stdout",
     "output_type": "stream",
     "text": [
      "36/36 [==============================] - 1s 23ms/step - loss: 0.3963 - accuracy: 0.0027 - val_loss: 0.2524 - val_accuracy: 0.0175\n",
      "Epoch 59/100\n",
      "36/36 [==============================] - 1s 22ms/step - loss: 0.4713 - accuracy: 0.0017 - val_loss: 0.3581 - val_accuracy: 0.0175\n",
      "Epoch 60/100\n",
      "36/36 [==============================] - 1s 23ms/step - loss: 0.4201 - accuracy: 0.0023 - val_loss: 0.5024 - val_accuracy: 0.0175\n",
      "Epoch 61/100\n",
      "36/36 [==============================] - 1s 23ms/step - loss: 0.4053 - accuracy: 0.0045 - val_loss: 0.2041 - val_accuracy: 0.0175\n",
      "Epoch 62/100\n",
      "36/36 [==============================] - 1s 22ms/step - loss: 0.4209 - accuracy: 0.0027 - val_loss: 0.2680 - val_accuracy: 0.0175\n",
      "Epoch 63/100\n",
      "36/36 [==============================] - 1s 24ms/step - loss: 0.4176 - accuracy: 0.0015 - val_loss: 0.1997 - val_accuracy: 0.0175\n",
      "Epoch 64/100\n",
      "36/36 [==============================] - 1s 23ms/step - loss: 0.4475 - accuracy: 0.0040 - val_loss: 0.1812 - val_accuracy: 0.0175\n",
      "Epoch 65/100\n",
      "36/36 [==============================] - 1s 22ms/step - loss: 0.3803 - accuracy: 0.0019 - val_loss: 0.1855 - val_accuracy: 0.0175\n",
      "Epoch 66/100\n",
      "36/36 [==============================] - 1s 23ms/step - loss: 0.4027 - accuracy: 0.0021 - val_loss: 0.1729 - val_accuracy: 0.0175\n",
      "Epoch 67/100\n",
      "36/36 [==============================] - 1s 22ms/step - loss: 0.3986 - accuracy: 0.0021 - val_loss: 0.2932 - val_accuracy: 0.0175\n",
      "Epoch 68/100\n",
      "36/36 [==============================] - 1s 22ms/step - loss: 0.3702 - accuracy: 0.0011 - val_loss: 0.1641 - val_accuracy: 0.0175\n",
      "Epoch 69/100\n",
      "36/36 [==============================] - 1s 23ms/step - loss: 0.3772 - accuracy: 0.0054 - val_loss: 0.3521 - val_accuracy: 0.0175\n",
      "Epoch 70/100\n",
      "36/36 [==============================] - 1s 24ms/step - loss: 0.3895 - accuracy: 0.0016 - val_loss: 0.2047 - val_accuracy: 0.0175\n",
      "Epoch 71/100\n",
      "36/36 [==============================] - 1s 24ms/step - loss: 0.4314 - accuracy: 0.0012 - val_loss: 0.2128 - val_accuracy: 0.0175\n",
      "Epoch 72/100\n",
      "36/36 [==============================] - 1s 22ms/step - loss: 0.3922 - accuracy: 0.0016 - val_loss: 0.1850 - val_accuracy: 0.0175\n",
      "Epoch 73/100\n",
      "36/36 [==============================] - 1s 23ms/step - loss: 0.3968 - accuracy: 0.0044 - val_loss: 0.3444 - val_accuracy: 0.0175\n",
      "Epoch 74/100\n",
      "36/36 [==============================] - 1s 22ms/step - loss: 0.4322 - accuracy: 0.0027 - val_loss: 0.1876 - val_accuracy: 0.0175\n",
      "Epoch 75/100\n",
      "36/36 [==============================] - 1s 23ms/step - loss: 0.4459 - accuracy: 0.0017 - val_loss: 0.2637 - val_accuracy: 0.0175\n",
      "Epoch 76/100\n",
      "36/36 [==============================] - 1s 23ms/step - loss: 0.4073 - accuracy: 0.0014 - val_loss: 0.2275 - val_accuracy: 0.0175\n",
      "Epoch 77/100\n",
      "36/36 [==============================] - 1s 22ms/step - loss: 0.4035 - accuracy: 0.0023 - val_loss: 0.2183 - val_accuracy: 0.0175\n",
      "Epoch 78/100\n",
      "36/36 [==============================] - 1s 23ms/step - loss: 0.3884 - accuracy: 0.0046 - val_loss: 0.2261 - val_accuracy: 0.0175\n",
      "Epoch 79/100\n",
      "36/36 [==============================] - 1s 23ms/step - loss: 0.3745 - accuracy: 0.0026 - val_loss: 0.2125 - val_accuracy: 0.0175\n",
      "Epoch 80/100\n",
      "36/36 [==============================] - 1s 23ms/step - loss: 0.3954 - accuracy: 0.0034 - val_loss: 0.2388 - val_accuracy: 0.0175\n",
      "Epoch 81/100\n",
      "36/36 [==============================] - 1s 23ms/step - loss: 0.3464 - accuracy: 8.3057e-04 - val_loss: 0.5259 - val_accuracy: 0.0175\n",
      "Epoch 82/100\n",
      "36/36 [==============================] - 1s 23ms/step - loss: 0.3828 - accuracy: 0.0035 - val_loss: 0.1775 - val_accuracy: 0.0175\n",
      "Epoch 83/100\n",
      "36/36 [==============================] - 1s 23ms/step - loss: 0.3944 - accuracy: 0.0012 - val_loss: 0.4290 - val_accuracy: 0.0175\n",
      "Epoch 84/100\n",
      "36/36 [==============================] - 1s 23ms/step - loss: 0.4273 - accuracy: 0.0039 - val_loss: 0.2873 - val_accuracy: 0.0175\n",
      "Epoch 85/100\n",
      "36/36 [==============================] - 1s 23ms/step - loss: 0.3679 - accuracy: 0.0036 - val_loss: 0.2935 - val_accuracy: 0.0175\n",
      "Epoch 86/100\n",
      "36/36 [==============================] - 1s 23ms/step - loss: 0.3716 - accuracy: 0.0025 - val_loss: 0.2058 - val_accuracy: 0.0175\n",
      "Epoch 87/100\n",
      "36/36 [==============================] - 1s 23ms/step - loss: 0.3920 - accuracy: 0.0011 - val_loss: 0.2137 - val_accuracy: 0.0175\n",
      "Epoch 88/100\n",
      "36/36 [==============================] - 1s 23ms/step - loss: 0.3489 - accuracy: 0.0013 - val_loss: 0.6057 - val_accuracy: 0.0175\n",
      "Epoch 89/100\n",
      "36/36 [==============================] - 1s 23ms/step - loss: 0.3694 - accuracy: 0.0038 - val_loss: 0.1625 - val_accuracy: 0.0175\n",
      "Epoch 90/100\n",
      "36/36 [==============================] - 1s 23ms/step - loss: 0.3856 - accuracy: 0.0015 - val_loss: 0.4174 - val_accuracy: 0.0175\n",
      "Epoch 91/100\n",
      "36/36 [==============================] - 1s 24ms/step - loss: 0.3681 - accuracy: 0.0024 - val_loss: 0.1687 - val_accuracy: 0.0175\n",
      "Epoch 92/100\n",
      "36/36 [==============================] - 1s 24ms/step - loss: 0.3810 - accuracy: 0.0022 - val_loss: 0.2241 - val_accuracy: 0.0175\n",
      "Epoch 93/100\n",
      "36/36 [==============================] - 1s 23ms/step - loss: 0.4374 - accuracy: 0.0051 - val_loss: 0.2702 - val_accuracy: 0.0175\n",
      "Epoch 94/100\n",
      "36/36 [==============================] - 1s 23ms/step - loss: 0.3811 - accuracy: 0.0011 - val_loss: 0.3755 - val_accuracy: 0.0175\n",
      "Epoch 95/100\n",
      "36/36 [==============================] - 1s 23ms/step - loss: 0.3187 - accuracy: 0.0042 - val_loss: 0.1864 - val_accuracy: 0.0175\n",
      "Epoch 96/100\n",
      "36/36 [==============================] - 1s 23ms/step - loss: 0.3894 - accuracy: 0.0046 - val_loss: 0.5195 - val_accuracy: 0.0175\n",
      "Epoch 97/100\n",
      "36/36 [==============================] - 1s 23ms/step - loss: 0.4118 - accuracy: 0.0051 - val_loss: 0.1720 - val_accuracy: 0.0175\n",
      "Epoch 98/100\n",
      "36/36 [==============================] - 1s 23ms/step - loss: 0.3512 - accuracy: 0.0012 - val_loss: 0.2935 - val_accuracy: 0.0175\n",
      "Epoch 99/100\n",
      "36/36 [==============================] - 1s 23ms/step - loss: 0.3245 - accuracy: 0.0021 - val_loss: 0.1903 - val_accuracy: 0.0140\n",
      "Epoch 100/100\n",
      "36/36 [==============================] - 1s 23ms/step - loss: 0.3266 - accuracy: 0.0021 - val_loss: 0.1848 - val_accuracy: 0.0105\n"
     ]
    },
    {
     "data": {
      "text/plain": [
       "<tensorflow.python.keras.callbacks.History at 0x1799b28cb50>"
      ]
     },
     "execution_count": 40,
     "metadata": {},
     "output_type": "execute_result"
    }
   ],
   "source": [
    "from keras.models import Sequential\n",
    "from keras.layers import Dense, LSTM,Dropout\n",
    "\n",
    "model = Sequential()\n",
    "model.add(LSTM(300, dropout=0.4, recurrent_dropout=0.4, input_shape = x.shape[1:], return_sequences=True))\n",
    "model.add(LSTM(64, recurrent_dropout=0.4))\n",
    "model.add(Dropout(0.5))\n",
    "model.add(Dense(1, activation='relu'))\n",
    "\n",
    "model.compile(loss='mean_squared_error', optimizer='rmsprop', metrics=['accuracy'])\n",
    "\n",
    "#model.compile(loss = 'categorical_crossentropy',optimizer='sgd',metrics=['accuracy'])\n",
    "model.fit(x,y_train,epochs=100,validation_split=0.2)"
   ]
  },
  {
   "cell_type": "code",
   "execution_count": null,
   "id": "94e9299b",
   "metadata": {},
   "outputs": [],
   "source": []
  }
 ],
 "metadata": {
  "kernelspec": {
   "display_name": "Python 3",
   "language": "python",
   "name": "python3"
  },
  "language_info": {
   "codemirror_mode": {
    "name": "ipython",
    "version": 3
   },
   "file_extension": ".py",
   "mimetype": "text/x-python",
   "name": "python",
   "nbconvert_exporter": "python",
   "pygments_lexer": "ipython3",
   "version": "3.8.6"
  }
 },
 "nbformat": 4,
 "nbformat_minor": 5
}
