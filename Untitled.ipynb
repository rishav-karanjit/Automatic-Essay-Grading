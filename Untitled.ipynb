{
 "cells": [
  {
   "cell_type": "markdown",
   "id": "9697b2d6",
   "metadata": {},
   "source": [
    "# SVM"
   ]
  },
  {
   "cell_type": "code",
   "execution_count": 29,
   "id": "bff06b8e",
   "metadata": {
    "scrolled": true
   },
   "outputs": [
    {
     "name": "stdout",
     "output_type": "stream",
     "text": [
      "0       5\n",
      "1       5\n",
      "2       3\n",
      "3       4\n",
      "4       5\n",
      "       ..\n",
      "3583    3\n",
      "3584    1\n",
      "3585    3\n",
      "3586    3\n",
      "3587    3\n",
      "Name: Score_5, Length: 3588, dtype: int64\n"
     ]
    },
    {
     "data": {
      "text/plain": [
       "(718, 4)"
      ]
     },
     "execution_count": 29,
     "metadata": {},
     "output_type": "execute_result"
    }
   ],
   "source": [
    "import pandas as pd\n",
    "from sklearn.model_selection import train_test_split\n",
    "from sklearn.preprocessing import StandardScaler\n",
    "\n",
    "df = pd.read_csv(\"Dataset/Dataset2.csv\")\n",
    "\n",
    "X = df.iloc[:,1:5]\n",
    "y = df.iloc[:,9]\n",
    "print(y)\n",
    "# scaler = StandardScaler()\n",
    "# X = scaler.fit_transform(X)\n",
    "X_train, X_test, y_train, y_test = train_test_split(X, y,test_size=0.20, random_state=101)\n",
    "X_test.shape"
   ]
  },
  {
   "cell_type": "code",
   "execution_count": 30,
   "id": "01ca64e2",
   "metadata": {},
   "outputs": [
    {
     "data": {
      "text/html": [
       "<div>\n",
       "<style scoped>\n",
       "    .dataframe tbody tr th:only-of-type {\n",
       "        vertical-align: middle;\n",
       "    }\n",
       "\n",
       "    .dataframe tbody tr th {\n",
       "        vertical-align: top;\n",
       "    }\n",
       "\n",
       "    .dataframe thead th {\n",
       "        text-align: right;\n",
       "    }\n",
       "</style>\n",
       "<table border=\"1\" class=\"dataframe\">\n",
       "  <thead>\n",
       "    <tr style=\"text-align: right;\">\n",
       "      <th></th>\n",
       "      <th>No. of Characters</th>\n",
       "      <th>No. of Words</th>\n",
       "      <th>No. of Unique words</th>\n",
       "      <th>POS Average</th>\n",
       "      <th>No. of Noun</th>\n",
       "      <th>No. of Adv</th>\n",
       "      <th>No. of Verb</th>\n",
       "      <th>No. of Adverb</th>\n",
       "      <th>Score_5</th>\n",
       "    </tr>\n",
       "  </thead>\n",
       "  <tbody>\n",
       "    <tr>\n",
       "      <th>No. of Characters</th>\n",
       "      <td>1.000000</td>\n",
       "      <td>0.993885</td>\n",
       "      <td>0.808707</td>\n",
       "      <td>0.995065</td>\n",
       "      <td>0.980571</td>\n",
       "      <td>0.914136</td>\n",
       "      <td>0.968059</td>\n",
       "      <td>0.889886</td>\n",
       "      <td>0.882758</td>\n",
       "    </tr>\n",
       "    <tr>\n",
       "      <th>No. of Words</th>\n",
       "      <td>0.993885</td>\n",
       "      <td>1.000000</td>\n",
       "      <td>0.794705</td>\n",
       "      <td>0.993824</td>\n",
       "      <td>0.967310</td>\n",
       "      <td>0.907233</td>\n",
       "      <td>0.980360</td>\n",
       "      <td>0.900120</td>\n",
       "      <td>0.878873</td>\n",
       "    </tr>\n",
       "    <tr>\n",
       "      <th>No. of Unique words</th>\n",
       "      <td>0.808707</td>\n",
       "      <td>0.794705</td>\n",
       "      <td>1.000000</td>\n",
       "      <td>0.804533</td>\n",
       "      <td>0.825077</td>\n",
       "      <td>0.715943</td>\n",
       "      <td>0.757808</td>\n",
       "      <td>0.697219</td>\n",
       "      <td>0.805902</td>\n",
       "    </tr>\n",
       "    <tr>\n",
       "      <th>POS Average</th>\n",
       "      <td>0.995065</td>\n",
       "      <td>0.993824</td>\n",
       "      <td>0.804533</td>\n",
       "      <td>1.000000</td>\n",
       "      <td>0.977964</td>\n",
       "      <td>0.922356</td>\n",
       "      <td>0.977003</td>\n",
       "      <td>0.905625</td>\n",
       "      <td>0.875874</td>\n",
       "    </tr>\n",
       "    <tr>\n",
       "      <th>No. of Noun</th>\n",
       "      <td>0.980571</td>\n",
       "      <td>0.967310</td>\n",
       "      <td>0.825077</td>\n",
       "      <td>0.977964</td>\n",
       "      <td>1.000000</td>\n",
       "      <td>0.881704</td>\n",
       "      <td>0.925445</td>\n",
       "      <td>0.834518</td>\n",
       "      <td>0.868753</td>\n",
       "    </tr>\n",
       "    <tr>\n",
       "      <th>No. of Adv</th>\n",
       "      <td>0.914136</td>\n",
       "      <td>0.907233</td>\n",
       "      <td>0.715943</td>\n",
       "      <td>0.922356</td>\n",
       "      <td>0.881704</td>\n",
       "      <td>1.000000</td>\n",
       "      <td>0.877167</td>\n",
       "      <td>0.821531</td>\n",
       "      <td>0.800059</td>\n",
       "    </tr>\n",
       "    <tr>\n",
       "      <th>No. of Verb</th>\n",
       "      <td>0.968059</td>\n",
       "      <td>0.980360</td>\n",
       "      <td>0.757808</td>\n",
       "      <td>0.977003</td>\n",
       "      <td>0.925445</td>\n",
       "      <td>0.877167</td>\n",
       "      <td>1.000000</td>\n",
       "      <td>0.890448</td>\n",
       "      <td>0.849737</td>\n",
       "    </tr>\n",
       "    <tr>\n",
       "      <th>No. of Adverb</th>\n",
       "      <td>0.889886</td>\n",
       "      <td>0.900120</td>\n",
       "      <td>0.697219</td>\n",
       "      <td>0.905625</td>\n",
       "      <td>0.834518</td>\n",
       "      <td>0.821531</td>\n",
       "      <td>0.890448</td>\n",
       "      <td>1.000000</td>\n",
       "      <td>0.774481</td>\n",
       "    </tr>\n",
       "    <tr>\n",
       "      <th>Score_5</th>\n",
       "      <td>0.882758</td>\n",
       "      <td>0.878873</td>\n",
       "      <td>0.805902</td>\n",
       "      <td>0.875874</td>\n",
       "      <td>0.868753</td>\n",
       "      <td>0.800059</td>\n",
       "      <td>0.849737</td>\n",
       "      <td>0.774481</td>\n",
       "      <td>1.000000</td>\n",
       "    </tr>\n",
       "  </tbody>\n",
       "</table>\n",
       "</div>"
      ],
      "text/plain": [
       "                     No. of Characters  No. of Words  No. of Unique words  \\\n",
       "No. of Characters             1.000000      0.993885             0.808707   \n",
       "No. of Words                  0.993885      1.000000             0.794705   \n",
       "No. of Unique words           0.808707      0.794705             1.000000   \n",
       "POS Average                   0.995065      0.993824             0.804533   \n",
       "No. of Noun                   0.980571      0.967310             0.825077   \n",
       "No. of Adv                    0.914136      0.907233             0.715943   \n",
       "No. of Verb                   0.968059      0.980360             0.757808   \n",
       "No. of Adverb                 0.889886      0.900120             0.697219   \n",
       "Score_5                       0.882758      0.878873             0.805902   \n",
       "\n",
       "                     POS Average  No. of Noun  No. of Adv  No. of Verb  \\\n",
       "No. of Characters       0.995065     0.980571    0.914136     0.968059   \n",
       "No. of Words            0.993824     0.967310    0.907233     0.980360   \n",
       "No. of Unique words     0.804533     0.825077    0.715943     0.757808   \n",
       "POS Average             1.000000     0.977964    0.922356     0.977003   \n",
       "No. of Noun             0.977964     1.000000    0.881704     0.925445   \n",
       "No. of Adv              0.922356     0.881704    1.000000     0.877167   \n",
       "No. of Verb             0.977003     0.925445    0.877167     1.000000   \n",
       "No. of Adverb           0.905625     0.834518    0.821531     0.890448   \n",
       "Score_5                 0.875874     0.868753    0.800059     0.849737   \n",
       "\n",
       "                     No. of Adverb   Score_5  \n",
       "No. of Characters         0.889886  0.882758  \n",
       "No. of Words              0.900120  0.878873  \n",
       "No. of Unique words       0.697219  0.805902  \n",
       "POS Average               0.905625  0.875874  \n",
       "No. of Noun               0.834518  0.868753  \n",
       "No. of Adv                0.821531  0.800059  \n",
       "No. of Verb               0.890448  0.849737  \n",
       "No. of Adverb             1.000000  0.774481  \n",
       "Score_5                   0.774481  1.000000  "
      ]
     },
     "execution_count": 30,
     "metadata": {},
     "output_type": "execute_result"
    }
   ],
   "source": [
    "df.corr()"
   ]
  },
  {
   "cell_type": "code",
   "execution_count": 31,
   "id": "27f8b055",
   "metadata": {},
   "outputs": [
    {
     "data": {
      "text/plain": [
       "SVC(probability=True)"
      ]
     },
     "execution_count": 31,
     "metadata": {},
     "output_type": "execute_result"
    }
   ],
   "source": [
    "from sklearn import svm\n",
    "\n",
    "SVM = svm.SVC(probability=True)\n",
    "\n",
    "SVM.fit(X_train, y_train)"
   ]
  },
  {
   "cell_type": "code",
   "execution_count": 32,
   "id": "d09c6596",
   "metadata": {},
   "outputs": [],
   "source": [
    "poly_pred = SVM.predict(X_test)"
   ]
  },
  {
   "cell_type": "code",
   "execution_count": 33,
   "id": "6033a015",
   "metadata": {
    "scrolled": true
   },
   "outputs": [
    {
     "name": "stdout",
     "output_type": "stream",
     "text": [
      "Accuracy (Polynomial Kernel):  89.55\n"
     ]
    }
   ],
   "source": [
    "from sklearn.metrics import accuracy_score\n",
    "from sklearn.metrics import f1_score\n",
    "\n",
    "poly_accuracy = accuracy_score(y_test, poly_pred)\n",
    "print('Accuracy (Polynomial Kernel): ', \"%.2f\" % (poly_accuracy*100))"
   ]
  },
  {
   "cell_type": "markdown",
   "id": "c5d4ee97",
   "metadata": {},
   "source": [
    "# KNN"
   ]
  },
  {
   "cell_type": "code",
   "execution_count": 34,
   "id": "8f656ac8",
   "metadata": {
    "scrolled": true
   },
   "outputs": [
    {
     "name": "stdout",
     "output_type": "stream",
     "text": [
      "KNN Accuracy: 90.81\n"
     ]
    }
   ],
   "source": [
    "from sklearn.neighbors import KNeighborsClassifier\n",
    "from sklearn.metrics import accuracy_score\n",
    "\n",
    "KNN = KNeighborsClassifier(n_neighbors=13)\n",
    "KNN.fit(X_train,y_train)\n",
    "KNN_pred = KNN.predict(X_test)\n",
    "\n",
    "KNN_accuracy = accuracy_score(y_test,KNN_pred)\n",
    "print(\"KNN Accuracy:\", \"%.2f\" % (KNN_accuracy*100))"
   ]
  },
  {
   "cell_type": "markdown",
   "id": "4f52aaad",
   "metadata": {},
   "source": [
    "# RFC"
   ]
  },
  {
   "cell_type": "code",
   "execution_count": 35,
   "id": "e523fcd4",
   "metadata": {
    "scrolled": true
   },
   "outputs": [
    {
     "name": "stdout",
     "output_type": "stream",
     "text": [
      "RFC Accuracy: 91.23\n"
     ]
    }
   ],
   "source": [
    "from sklearn.ensemble import RandomForestClassifier\n",
    "RFC = RandomForestClassifier(n_estimators=11,random_state =4)\n",
    "RFC.fit(X_train, y_train)\n",
    "RFC_pred = RFC.predict(X_test)\n",
    "\n",
    "RFC_accuracy = accuracy_score(y_test,RFC_pred)\n",
    "print(\"RFC Accuracy:\", \"%.2f\" % (RFC_accuracy*100))"
   ]
  },
  {
   "cell_type": "markdown",
   "id": "e812ca17",
   "metadata": {},
   "source": [
    "# XG BOOST"
   ]
  },
  {
   "cell_type": "code",
   "execution_count": 36,
   "id": "d7073ece",
   "metadata": {},
   "outputs": [
    {
     "name": "stderr",
     "output_type": "stream",
     "text": [
      "c:\\users\\rishavk\\appdata\\local\\programs\\python\\python38\\lib\\site-packages\\xgboost\\sklearn.py:1146: UserWarning: The use of label encoder in XGBClassifier is deprecated and will be removed in a future release. To remove this warning, do the following: 1) Pass option use_label_encoder=False when constructing XGBClassifier object; and 2) Encode your labels (y) as integers starting with 0, i.e. 0, 1, 2, ..., [num_class - 1].\n",
      "  warnings.warn(label_encoder_deprecation_msg, UserWarning)\n"
     ]
    },
    {
     "name": "stdout",
     "output_type": "stream",
     "text": [
      "[13:01:06] WARNING: C:/Users/Administrator/workspace/xgboost-win64_release_1.4.0/src/learner.cc:1095: Starting in XGBoost 1.3.0, the default evaluation metric used with the objective 'multi:softprob' was changed from 'merror' to 'mlogloss'. Explicitly set eval_metric if you'd like to restore the old behavior.\n",
      "XGB Accuracy: 92.20\n"
     ]
    }
   ],
   "source": [
    "from xgboost import XGBClassifier\n",
    "\n",
    "XGB = XGBClassifier()\n",
    "XGB.fit(X_train, y_train)\n",
    "\n",
    "XGB_pred = XGB.predict(X_test)\n",
    "\n",
    "XGB_accuracy = accuracy_score(y_test,XGB_pred)\n",
    "print(\"XGB Accuracy:\", \"%.2f\" % (XGB_accuracy*100))"
   ]
  },
  {
   "cell_type": "markdown",
   "id": "72541b5f",
   "metadata": {},
   "source": [
    "# LogisticRegression"
   ]
  },
  {
   "cell_type": "code",
   "execution_count": 37,
   "id": "3abe6714",
   "metadata": {},
   "outputs": [
    {
     "name": "stdout",
     "output_type": "stream",
     "text": [
      "LogisticRegression Accuracy: 90.67\n"
     ]
    },
    {
     "name": "stderr",
     "output_type": "stream",
     "text": [
      "c:\\users\\rishavk\\appdata\\local\\programs\\python\\python38\\lib\\site-packages\\sklearn\\linear_model\\_logistic.py:763: ConvergenceWarning: lbfgs failed to converge (status=1):\n",
      "STOP: TOTAL NO. of f AND g EVALUATIONS EXCEEDS LIMIT.\n",
      "\n",
      "Increase the number of iterations (max_iter) or scale the data as shown in:\n",
      "    https://scikit-learn.org/stable/modules/preprocessing.html\n",
      "Please also refer to the documentation for alternative solver options:\n",
      "    https://scikit-learn.org/stable/modules/linear_model.html#logistic-regression\n",
      "  n_iter_i = _check_optimize_result(\n"
     ]
    }
   ],
   "source": [
    "from sklearn.linear_model import LogisticRegression\n",
    "\n",
    "LogisticRegression = LogisticRegression(solver='lbfgs',max_iter=9999999999999999999999999999999999999999999999999999999999999)\n",
    "LogisticRegression.fit(X_train, y_train)\n",
    "\n",
    "LogisticRegression_pred = LogisticRegression.predict(X_test)\n",
    "\n",
    "LogisticRegression_accuracy = accuracy_score(y_test,LogisticRegression_pred)\n",
    "print(\"LogisticRegression Accuracy:\", \"%.2f\" % (LogisticRegression_accuracy*100))"
   ]
  },
  {
   "cell_type": "markdown",
   "id": "32009d59",
   "metadata": {},
   "source": [
    "# Stack"
   ]
  },
  {
   "cell_type": "code",
   "execution_count": 38,
   "id": "bb2706de",
   "metadata": {
    "scrolled": false
   },
   "outputs": [
    {
     "name": "stderr",
     "output_type": "stream",
     "text": [
      "c:\\users\\rishavk\\appdata\\local\\programs\\python\\python38\\lib\\site-packages\\sklearn\\linear_model\\_logistic.py:763: ConvergenceWarning: lbfgs failed to converge (status=1):\n",
      "STOP: TOTAL NO. of f AND g EVALUATIONS EXCEEDS LIMIT.\n",
      "\n",
      "Increase the number of iterations (max_iter) or scale the data as shown in:\n",
      "    https://scikit-learn.org/stable/modules/preprocessing.html\n",
      "Please also refer to the documentation for alternative solver options:\n",
      "    https://scikit-learn.org/stable/modules/linear_model.html#logistic-regression\n",
      "  n_iter_i = _check_optimize_result(\n",
      "c:\\users\\rishavk\\appdata\\local\\programs\\python\\python38\\lib\\site-packages\\xgboost\\sklearn.py:1146: UserWarning: The use of label encoder in XGBClassifier is deprecated and will be removed in a future release. To remove this warning, do the following: 1) Pass option use_label_encoder=False when constructing XGBClassifier object; and 2) Encode your labels (y) as integers starting with 0, i.e. 0, 1, 2, ..., [num_class - 1].\n",
      "  warnings.warn(label_encoder_deprecation_msg, UserWarning)\n"
     ]
    },
    {
     "name": "stdout",
     "output_type": "stream",
     "text": [
      "[13:01:55] WARNING: C:/Users/Administrator/workspace/xgboost-win64_release_1.4.0/src/learner.cc:1095: Starting in XGBoost 1.3.0, the default evaluation metric used with the objective 'multi:softprob' was changed from 'merror' to 'mlogloss'. Explicitly set eval_metric if you'd like to restore the old behavior.\n",
      "Stack Test Accuracy: 92.20\n"
     ]
    }
   ],
   "source": [
    "from sklearn.ensemble import StackingClassifier\n",
    "from sklearn.ensemble import VotingClassifier\n",
    "\n",
    "\n",
    "estimator_list = [\n",
    "    ('rfc',RFC),\n",
    "    ('knn',KNN),\n",
    "    ('svm',SVM),\n",
    "    ('LR',LogisticRegression),\n",
    "    ('XGB',XGB)\n",
    "]\n",
    "\n",
    "# Build stack model\n",
    "stack_model = VotingClassifier(\n",
    "    estimators=estimator_list,voting='hard'\n",
    ")\n",
    "\n",
    "# Train stacked model\n",
    "stack_model.fit(X_train, y_train)\n",
    "\n",
    "# Make predictions\n",
    "stack_pred = stack_model.predict(X_test)\n",
    "\n",
    "stack_accuracy = accuracy_score(y_test,stack_pred)\n",
    "print(\"Stack Test Accuracy:\", \"%.2f\" % (stack_accuracy*100))"
   ]
  },
  {
   "cell_type": "code",
   "execution_count": 40,
   "id": "7d58f481",
   "metadata": {},
   "outputs": [
    {
     "data": {
      "text/plain": [
       "<AxesSubplot:>"
      ]
     },
     "execution_count": 40,
     "metadata": {},
     "output_type": "execute_result"
    },
    {
     "data": {
      "image/png": "[encoded data removed]",
      "text/plain": [
       "<Figure size 432x288 with 2 Axes>"
      ]
     },
     "metadata": {
      "needs_background": "light"
     },
     "output_type": "display_data"
    }
   ],
   "source": [
    "\n",
    "from sklearn.metrics import confusion_matrix\n",
    "import seaborn as sns\n",
    "\n",
    "cm = confusion_matrix(y_test, stack_pred)\n",
    "\n",
    "sns.heatmap(cm,annot=True)"
   ]
  },
  {
   "cell_type": "code",
   "execution_count": 12,
   "id": "7104508c",
   "metadata": {},
   "outputs": [],
   "source": [
    "import pickle\n",
    "\n",
    "pickle.dump(stack_model, open(\"Model/Stack_model.sav\", 'wb'))"
   ]
  },
  {
   "cell_type": "markdown",
   "id": "9c4ca6e2",
   "metadata": {},
   "source": [
    "# Neural network"
   ]
  },
  {
   "cell_type": "code",
   "execution_count": 13,
   "id": "1cbff338",
   "metadata": {},
   "outputs": [
    {
     "name": "stdout",
     "output_type": "stream",
     "text": [
      "Epoch 1/100\n",
      "72/72 [==============================] - 3s 31ms/step - loss: 3022.4969 - accuracy: 0.3739 - val_loss: 1.5167 - val_accuracy: 0.3902\n",
      "Epoch 2/100\n",
      "72/72 [==============================] - 0s 3ms/step - loss: 1.5534 - accuracy: 0.3849 - val_loss: 1.4941 - val_accuracy: 0.3902\n",
      "Epoch 3/100\n",
      "72/72 [==============================] - 0s 3ms/step - loss: 1.5252 - accuracy: 0.3840 - val_loss: 1.4752 - val_accuracy: 0.3902\n",
      "Epoch 4/100\n",
      "72/72 [==============================] - 0s 3ms/step - loss: 1.4730 - accuracy: 0.4048 - val_loss: 1.4590 - val_accuracy: 0.3902\n",
      "Epoch 5/100\n",
      "72/72 [==============================] - 0s 3ms/step - loss: 1.4652 - accuracy: 0.3987 - val_loss: 1.4477 - val_accuracy: 0.3902\n",
      "Epoch 6/100\n",
      "72/72 [==============================] - 0s 2ms/step - loss: 1.4879 - accuracy: 0.3809 - val_loss: 1.4386 - val_accuracy: 0.3902\n",
      "Epoch 7/100\n",
      "72/72 [==============================] - 0s 3ms/step - loss: 1.4625 - accuracy: 0.3988 - val_loss: 1.4294 - val_accuracy: 0.3902\n",
      "Epoch 8/100\n",
      "72/72 [==============================] - 0s 2ms/step - loss: 1.4366 - accuracy: 0.4011 - val_loss: 1.4228 - val_accuracy: 0.3902\n",
      "Epoch 9/100\n",
      "72/72 [==============================] - 0s 3ms/step - loss: 1.4495 - accuracy: 0.3897 - val_loss: 1.4168 - val_accuracy: 0.3902\n",
      "Epoch 10/100\n",
      "72/72 [==============================] - 0s 3ms/step - loss: 1.4294 - accuracy: 0.3854 - val_loss: 1.4116 - val_accuracy: 0.3902\n",
      "Epoch 11/100\n",
      "72/72 [==============================] - 0s 3ms/step - loss: 1.4349 - accuracy: 0.4023 - val_loss: 1.4074 - val_accuracy: 0.3902\n",
      "Epoch 12/100\n",
      "72/72 [==============================] - 0s 3ms/step - loss: 1.4270 - accuracy: 0.3840 - val_loss: 1.4032 - val_accuracy: 0.3902\n",
      "Epoch 13/100\n",
      "72/72 [==============================] - 0s 2ms/step - loss: 1.4041 - accuracy: 0.4051 - val_loss: 1.4003 - val_accuracy: 0.3902\n",
      "Epoch 14/100\n",
      "72/72 [==============================] - 0s 3ms/step - loss: 1.4131 - accuracy: 0.3991 - val_loss: 1.3978 - val_accuracy: 0.3902\n",
      "Epoch 15/100\n",
      "72/72 [==============================] - 0s 2ms/step - loss: 1.4055 - accuracy: 0.4063 - val_loss: 1.3949 - val_accuracy: 0.3902\n",
      "Epoch 16/100\n",
      "72/72 [==============================] - 0s 3ms/step - loss: 1.4181 - accuracy: 0.3839 - val_loss: 1.3908 - val_accuracy: 0.3902\n",
      "Epoch 17/100\n",
      "72/72 [==============================] - 0s 2ms/step - loss: 1.3869 - accuracy: 0.4059 - val_loss: 1.3886 - val_accuracy: 0.3902\n",
      "Epoch 18/100\n",
      "72/72 [==============================] - 0s 2ms/step - loss: 1.3910 - accuracy: 0.4138 - val_loss: 1.3861 - val_accuracy: 0.3902\n",
      "Epoch 19/100\n",
      "72/72 [==============================] - 0s 3ms/step - loss: 1.3912 - accuracy: 0.3975 - val_loss: 1.3865 - val_accuracy: 0.3902\n",
      "Epoch 20/100\n",
      "72/72 [==============================] - 0s 3ms/step - loss: 1.3977 - accuracy: 0.3885 - val_loss: 1.3829 - val_accuracy: 0.3902\n",
      "Epoch 21/100\n",
      "72/72 [==============================] - 0s 3ms/step - loss: 1.3878 - accuracy: 0.3992 - val_loss: 1.3806 - val_accuracy: 0.3902\n",
      "Epoch 22/100\n",
      "72/72 [==============================] - 0s 3ms/step - loss: 1.3975 - accuracy: 0.4028 - val_loss: 1.3792 - val_accuracy: 0.3902\n",
      "Epoch 23/100\n",
      "72/72 [==============================] - 0s 3ms/step - loss: 1.3763 - accuracy: 0.3938 - val_loss: 1.3787 - val_accuracy: 0.3902\n",
      "Epoch 24/100\n",
      "72/72 [==============================] - 0s 3ms/step - loss: 1.3893 - accuracy: 0.3966 - val_loss: 1.3764 - val_accuracy: 0.3902\n",
      "Epoch 25/100\n",
      "72/72 [==============================] - 0s 3ms/step - loss: 1.3908 - accuracy: 0.4060 - val_loss: 1.3754 - val_accuracy: 0.3902\n",
      "Epoch 26/100\n",
      "72/72 [==============================] - 0s 3ms/step - loss: 1.3912 - accuracy: 0.3852 - val_loss: 1.3740 - val_accuracy: 0.3902\n",
      "Epoch 27/100\n",
      "72/72 [==============================] - 0s 3ms/step - loss: 1.3883 - accuracy: 0.3848 - val_loss: 1.3729 - val_accuracy: 0.3902\n",
      "Epoch 28/100\n",
      "72/72 [==============================] - 0s 3ms/step - loss: 1.3798 - accuracy: 0.3984 - val_loss: 1.3720 - val_accuracy: 0.3902\n",
      "Epoch 29/100\n",
      "72/72 [==============================] - 0s 3ms/step - loss: 1.3545 - accuracy: 0.4127 - val_loss: 1.3715 - val_accuracy: 0.3902\n",
      "Epoch 30/100\n",
      "72/72 [==============================] - 0s 3ms/step - loss: 1.3839 - accuracy: 0.4045 - val_loss: 1.3702 - val_accuracy: 0.3902\n",
      "Epoch 31/100\n",
      "72/72 [==============================] - 0s 3ms/step - loss: 1.3758 - accuracy: 0.3916 - val_loss: 1.3694 - val_accuracy: 0.3902\n",
      "Epoch 32/100\n",
      "72/72 [==============================] - 0s 3ms/step - loss: 1.3819 - accuracy: 0.3851 - val_loss: 1.3692 - val_accuracy: 0.3902\n",
      "Epoch 33/100\n",
      "72/72 [==============================] - 0s 2ms/step - loss: 1.3813 - accuracy: 0.3871 - val_loss: 1.3681 - val_accuracy: 0.3902\n",
      "Epoch 34/100\n",
      "72/72 [==============================] - 0s 3ms/step - loss: 1.3846 - accuracy: 0.3919 - val_loss: 1.3676 - val_accuracy: 0.3902\n",
      "Epoch 35/100\n",
      "72/72 [==============================] - 0s 3ms/step - loss: 1.3534 - accuracy: 0.4017 - val_loss: 1.3685 - val_accuracy: 0.3902\n",
      "Epoch 36/100\n",
      "72/72 [==============================] - 0s 3ms/step - loss: 1.4001 - accuracy: 0.3834 - val_loss: 1.3661 - val_accuracy: 0.3902\n",
      "Epoch 37/100\n",
      "72/72 [==============================] - 0s 2ms/step - loss: 1.4061 - accuracy: 0.3842 - val_loss: 1.3659 - val_accuracy: 0.3902\n",
      "Epoch 38/100\n",
      "72/72 [==============================] - 0s 2ms/step - loss: 1.3523 - accuracy: 0.4012 - val_loss: 1.3671 - val_accuracy: 0.3902\n",
      "Epoch 39/100\n",
      "72/72 [==============================] - 0s 2ms/step - loss: 1.3655 - accuracy: 0.4081 - val_loss: 1.3646 - val_accuracy: 0.3902\n",
      "Epoch 40/100\n",
      "72/72 [==============================] - 0s 2ms/step - loss: 1.3665 - accuracy: 0.3898 - val_loss: 1.3644 - val_accuracy: 0.3902\n",
      "Epoch 41/100\n",
      "72/72 [==============================] - 0s 2ms/step - loss: 1.3839 - accuracy: 0.3898 - val_loss: 1.3658 - val_accuracy: 0.3902\n",
      "Epoch 42/100\n",
      "72/72 [==============================] - 0s 2ms/step - loss: 1.3819 - accuracy: 0.3853 - val_loss: 1.3636 - val_accuracy: 0.3902\n",
      "Epoch 43/100\n",
      "72/72 [==============================] - 0s 2ms/step - loss: 1.3810 - accuracy: 0.3915 - val_loss: 1.3640 - val_accuracy: 0.3902\n",
      "Epoch 44/100\n",
      "72/72 [==============================] - 0s 2ms/step - loss: 1.3802 - accuracy: 0.4102 - val_loss: 1.3624 - val_accuracy: 0.3902\n",
      "Epoch 45/100\n",
      "72/72 [==============================] - 0s 2ms/step - loss: 1.3739 - accuracy: 0.3779 - val_loss: 1.3623 - val_accuracy: 0.3902\n",
      "Epoch 46/100\n",
      "72/72 [==============================] - 0s 3ms/step - loss: 1.3889 - accuracy: 0.3944 - val_loss: 1.3626 - val_accuracy: 0.3902\n",
      "Epoch 47/100\n",
      "72/72 [==============================] - 0s 3ms/step - loss: 1.3591 - accuracy: 0.4020 - val_loss: 1.3614 - val_accuracy: 0.3902\n",
      "Epoch 48/100\n",
      "72/72 [==============================] - 0s 2ms/step - loss: 1.3694 - accuracy: 0.3875 - val_loss: 1.3612 - val_accuracy: 0.3902\n",
      "Epoch 49/100\n",
      "72/72 [==============================] - 0s 2ms/step - loss: 1.3761 - accuracy: 0.3925 - val_loss: 1.3609 - val_accuracy: 0.3902\n",
      "Epoch 50/100\n",
      "72/72 [==============================] - 0s 3ms/step - loss: 1.3732 - accuracy: 0.3858 - val_loss: 1.3606 - val_accuracy: 0.3902\n",
      "Epoch 51/100\n",
      "72/72 [==============================] - 0s 3ms/step - loss: 1.3857 - accuracy: 0.3752 - val_loss: 1.3613 - val_accuracy: 0.3902\n",
      "Epoch 52/100\n",
      "72/72 [==============================] - 0s 3ms/step - loss: 1.3714 - accuracy: 0.3911 - val_loss: 1.3604 - val_accuracy: 0.3902\n",
      "Epoch 53/100\n",
      "72/72 [==============================] - 0s 3ms/step - loss: 1.3319 - accuracy: 0.4126 - val_loss: 1.3616 - val_accuracy: 0.3902\n",
      "Epoch 54/100\n",
      "72/72 [==============================] - 0s 3ms/step - loss: 1.3773 - accuracy: 0.3956 - val_loss: 1.3595 - val_accuracy: 0.3902\n",
      "Epoch 55/100\n",
      "72/72 [==============================] - 0s 3ms/step - loss: 1.3869 - accuracy: 0.3806 - val_loss: 1.3593 - val_accuracy: 0.3902\n",
      "Epoch 56/100\n",
      "72/72 [==============================] - 0s 2ms/step - loss: 1.3503 - accuracy: 0.4069 - val_loss: 1.3595 - val_accuracy: 0.3902\n",
      "Epoch 57/100\n",
      "72/72 [==============================] - 0s 3ms/step - loss: 1.3706 - accuracy: 0.4034 - val_loss: 1.3588 - val_accuracy: 0.3902\n",
      "Epoch 58/100\n",
      "72/72 [==============================] - 0s 3ms/step - loss: 1.3611 - accuracy: 0.3993 - val_loss: 1.3585 - val_accuracy: 0.3902\n"
     ]
    },
    {
     "name": "stdout",
     "output_type": "stream",
     "text": [
      "Epoch 59/100\n",
      "72/72 [==============================] - 0s 3ms/step - loss: 1.3581 - accuracy: 0.3848 - val_loss: 1.3583 - val_accuracy: 0.3902\n",
      "Epoch 60/100\n",
      "72/72 [==============================] - 0s 3ms/step - loss: 1.3646 - accuracy: 0.4085 - val_loss: 1.3587 - val_accuracy: 0.3902\n",
      "Epoch 61/100\n",
      "72/72 [==============================] - 0s 2ms/step - loss: 1.3824 - accuracy: 0.3872 - val_loss: 1.3581 - val_accuracy: 0.3902\n",
      "Epoch 62/100\n",
      "72/72 [==============================] - 0s 2ms/step - loss: 1.3786 - accuracy: 0.3956 - val_loss: 1.3579 - val_accuracy: 0.3902\n",
      "Epoch 63/100\n",
      "72/72 [==============================] - 0s 2ms/step - loss: 1.3572 - accuracy: 0.4002 - val_loss: 1.3576 - val_accuracy: 0.3902\n",
      "Epoch 64/100\n",
      "72/72 [==============================] - 0s 2ms/step - loss: 1.3582 - accuracy: 0.4128 - val_loss: 1.3580 - val_accuracy: 0.3902\n",
      "Epoch 65/100\n",
      "72/72 [==============================] - 0s 2ms/step - loss: 1.3647 - accuracy: 0.3972 - val_loss: 1.3573 - val_accuracy: 0.3902\n",
      "Epoch 66/100\n",
      "72/72 [==============================] - 0s 2ms/step - loss: 1.3634 - accuracy: 0.4122 - val_loss: 1.3571 - val_accuracy: 0.3902\n",
      "Epoch 67/100\n",
      "72/72 [==============================] - 0s 2ms/step - loss: 1.3582 - accuracy: 0.3983 - val_loss: 1.3571 - val_accuracy: 0.3902\n",
      "Epoch 68/100\n",
      "72/72 [==============================] - 0s 2ms/step - loss: 1.3518 - accuracy: 0.3975 - val_loss: 1.3573 - val_accuracy: 0.3902\n",
      "Epoch 69/100\n",
      "72/72 [==============================] - 0s 3ms/step - loss: 1.3723 - accuracy: 0.3891 - val_loss: 1.3567 - val_accuracy: 0.3902\n",
      "Epoch 70/100\n",
      "72/72 [==============================] - 0s 2ms/step - loss: 1.3801 - accuracy: 0.3806 - val_loss: 1.3565 - val_accuracy: 0.3902\n",
      "Epoch 71/100\n",
      "72/72 [==============================] - 0s 2ms/step - loss: 1.3676 - accuracy: 0.3863 - val_loss: 1.3563 - val_accuracy: 0.3902\n",
      "Epoch 72/100\n",
      "72/72 [==============================] - 0s 2ms/step - loss: 1.3589 - accuracy: 0.3998 - val_loss: 1.3572 - val_accuracy: 0.3902\n",
      "Epoch 73/100\n",
      "72/72 [==============================] - 0s 2ms/step - loss: 1.3457 - accuracy: 0.3923 - val_loss: 1.3563 - val_accuracy: 0.3902\n",
      "Epoch 74/100\n",
      "72/72 [==============================] - 0s 2ms/step - loss: 1.3645 - accuracy: 0.3991 - val_loss: 1.3561 - val_accuracy: 0.3902\n",
      "Epoch 75/100\n",
      "72/72 [==============================] - 0s 2ms/step - loss: 1.3797 - accuracy: 0.3917 - val_loss: 1.3559 - val_accuracy: 0.3902\n",
      "Epoch 76/100\n",
      "72/72 [==============================] - 0s 2ms/step - loss: 1.3714 - accuracy: 0.3963 - val_loss: 1.3557 - val_accuracy: 0.3902\n",
      "Epoch 77/100\n",
      "72/72 [==============================] - 0s 2ms/step - loss: 1.3841 - accuracy: 0.3893 - val_loss: 1.3556 - val_accuracy: 0.3902\n",
      "Epoch 78/100\n",
      "72/72 [==============================] - 0s 2ms/step - loss: 1.3563 - accuracy: 0.3937 - val_loss: 1.3556 - val_accuracy: 0.3902\n",
      "Epoch 79/100\n",
      "72/72 [==============================] - 0s 2ms/step - loss: 1.3725 - accuracy: 0.3885 - val_loss: 1.3554 - val_accuracy: 0.3902\n",
      "Epoch 80/100\n",
      "72/72 [==============================] - 0s 2ms/step - loss: 1.3703 - accuracy: 0.3973 - val_loss: 1.3553 - val_accuracy: 0.3902\n",
      "Epoch 81/100\n",
      "72/72 [==============================] - 0s 2ms/step - loss: 1.3505 - accuracy: 0.4071 - val_loss: 1.3552 - val_accuracy: 0.3902\n",
      "Epoch 82/100\n",
      "72/72 [==============================] - 0s 2ms/step - loss: 1.3798 - accuracy: 0.3867 - val_loss: 1.3550 - val_accuracy: 0.3902\n",
      "Epoch 83/100\n",
      "72/72 [==============================] - 0s 2ms/step - loss: 1.3674 - accuracy: 0.3930 - val_loss: 1.3549 - val_accuracy: 0.3902\n",
      "Epoch 84/100\n",
      "72/72 [==============================] - 0s 2ms/step - loss: 1.3635 - accuracy: 0.3911 - val_loss: 1.3548 - val_accuracy: 0.3902\n",
      "Epoch 85/100\n",
      "72/72 [==============================] - 0s 3ms/step - loss: 1.3587 - accuracy: 0.4049 - val_loss: 1.3548 - val_accuracy: 0.3902\n",
      "Epoch 86/100\n",
      "72/72 [==============================] - 0s 3ms/step - loss: 1.3500 - accuracy: 0.3958 - val_loss: 1.3547 - val_accuracy: 0.3902\n",
      "Epoch 87/100\n",
      "72/72 [==============================] - 0s 2ms/step - loss: 1.3549 - accuracy: 0.3932 - val_loss: 1.3547 - val_accuracy: 0.3902\n",
      "Epoch 88/100\n",
      "72/72 [==============================] - 0s 2ms/step - loss: 1.3762 - accuracy: 0.3997 - val_loss: 1.3545 - val_accuracy: 0.3902\n",
      "Epoch 89/100\n",
      "72/72 [==============================] - 0s 2ms/step - loss: 1.3794 - accuracy: 0.3854 - val_loss: 1.3543 - val_accuracy: 0.3902\n",
      "Epoch 90/100\n",
      "72/72 [==============================] - 0s 3ms/step - loss: 1.3847 - accuracy: 0.3791 - val_loss: 1.3543 - val_accuracy: 0.3902\n",
      "Epoch 91/100\n",
      "72/72 [==============================] - 0s 4ms/step - loss: 1.3711 - accuracy: 0.3924 - val_loss: 1.3542 - val_accuracy: 0.3902\n",
      "Epoch 92/100\n",
      "72/72 [==============================] - 0s 4ms/step - loss: 1.3802 - accuracy: 0.3908 - val_loss: 1.3540 - val_accuracy: 0.3902\n",
      "Epoch 93/100\n",
      "72/72 [==============================] - 0s 3ms/step - loss: 1.3591 - accuracy: 0.4020 - val_loss: 1.3540 - val_accuracy: 0.3902\n",
      "Epoch 94/100\n",
      "72/72 [==============================] - 0s 3ms/step - loss: 1.3729 - accuracy: 0.3902 - val_loss: 1.3540 - val_accuracy: 0.3902\n",
      "Epoch 95/100\n",
      "72/72 [==============================] - 0s 2ms/step - loss: 1.3784 - accuracy: 0.3814 - val_loss: 1.3539 - val_accuracy: 0.3902\n",
      "Epoch 96/100\n",
      "72/72 [==============================] - 0s 2ms/step - loss: 1.3548 - accuracy: 0.4117 - val_loss: 1.3539 - val_accuracy: 0.3902\n",
      "Epoch 97/100\n",
      "72/72 [==============================] - 0s 2ms/step - loss: 1.3606 - accuracy: 0.3843 - val_loss: 1.3539 - val_accuracy: 0.3902\n",
      "Epoch 98/100\n",
      "72/72 [==============================] - 0s 2ms/step - loss: 1.3798 - accuracy: 0.3894 - val_loss: 1.3538 - val_accuracy: 0.3902\n",
      "Epoch 99/100\n",
      "72/72 [==============================] - 0s 2ms/step - loss: 1.3643 - accuracy: 0.3917 - val_loss: 1.3538 - val_accuracy: 0.3902\n",
      "Epoch 100/100\n",
      "72/72 [==============================] - 0s 3ms/step - loss: 1.3431 - accuracy: 0.3870 - val_loss: 1.3537 - val_accuracy: 0.3902\n"
     ]
    },
    {
     "data": {
      "text/plain": [
       "<tensorflow.python.keras.callbacks.History at 0x27fc63fb490>"
      ]
     },
     "execution_count": 13,
     "metadata": {},
     "output_type": "execute_result"
    }
   ],
   "source": [
    "from keras.models import Sequential\n",
    "from keras.layers import Dense\n",
    "\n",
    "model = Sequential()\n",
    "\n",
    "model.add(Dense(64,input_dim = 4, activation='relu'))\n",
    "model.add(Dense(124,activation='relu'))\n",
    "model.add(Dense(6,activation='softmax'))\n",
    "\n",
    "model.compile(loss='sparse_categorical_crossentropy',optimizer='sgd',metrics=['accuracy'])\n",
    "model.fit(X_train,y_train,epochs=100,validation_split=0.2)"
   ]
  },
  {
   "cell_type": "code",
   "execution_count": 14,
   "id": "1f598c55",
   "metadata": {},
   "outputs": [],
   "source": [
    "# import numpy as np\n",
    "# preds = model.predict(X_test)\n",
    "# predicted = np.argmax(preds,axis=1)\n",
    "# predicted\n",
    "# # predicted = np.argmax(X_test)"
   ]
  },
  {
   "cell_type": "code",
   "execution_count": 15,
   "id": "3ee2b57d",
   "metadata": {},
   "outputs": [],
   "source": [
    "# from keras.models import Sequential\n",
    "# from keras.layers import Dense, Dropout, LSTM\n",
    "# model2 = Sequential()\n",
    "\n",
    "# model2.add(LSTM(128,input_shape=X_train.shape,return_sequences=True,activation='relu'))\n",
    "# model2.add(Dropout(0.5))\n",
    "\n",
    "# model2.add(LSTM(128,activation='relu'))\n",
    "# model2.add(Dropout(0.5))\n",
    "\n",
    "# model2.add(Dense(6,activation='softmax'))\n",
    "# model2.add(Dropout(0.5))\n",
    "\n",
    "# model.compile(loss='sparse_categorical_crossentropy',optimizer='sgd',metrics=['accuracy'])\n",
    "# model.fit(X_train,y_train,epochs=100,validation_split=0.2)"
   ]
  },
  {
   "cell_type": "code",
   "execution_count": null,
   "id": "a64a7668",
   "metadata": {},
   "outputs": [],
   "source": []
  },
  {
   "cell_type": "code",
   "execution_count": null,
   "id": "c50384ea",
   "metadata": {},
   "outputs": [],
   "source": []
  }
 ],
 "metadata": {
  "kernelspec": {
   "display_name": "Python 3",
   "language": "python",
   "name": "python3"
  },
  "language_info": {
   "codemirror_mode": {
    "name": "ipython",
    "version": 3
   },
   "file_extension": ".py",
   "mimetype": "text/x-python",
   "name": "python",
   "nbconvert_exporter": "python",
   "pygments_lexer": "ipython3",
   "version": "3.8.6"
  }
 },
 "nbformat": 4,
 "nbformat_minor": 5
}
